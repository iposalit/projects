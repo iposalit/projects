{
 "cells": [
  {
   "cell_type": "markdown",
   "metadata": {
    "id": "uqNDlpDjN2qr"
   },
   "source": [
    "# Import Data"
   ]
  },
  {
   "cell_type": "code",
   "execution_count": null,
   "metadata": {
    "id": "8dn2QJcwN3fj"
   },
   "outputs": [],
   "source": [
    "import os\n",
    "import math\n",
    "import itertools\n",
    "import matplotlib\n",
    "import matplotlib.pyplot as plt\n",
    "import pandas as pd\n",
    "import numpy as np\n",
    "import torch\n",
    "from torch import nn\n",
    "from torch.utils.data import Dataset, DataLoader\n",
    "from torch.nn import functional as F\n",
    "from sklearn.model_selection import train_test_split\n",
    "from sklearn.metrics import roc_auc_score\n",
    "from sklearn.metrics import confusion_matrix\n",
    "from sklearn.metrics import ConfusionMatrixDisplay, r2_score"
   ]
  },
  {
   "cell_type": "code",
   "execution_count": null,
   "metadata": {
    "colab": {
     "base_uri": "https://localhost:8080/"
    },
    "executionInfo": {
     "elapsed": 2278,
     "status": "ok",
     "timestamp": 1652034228947,
     "user": {
      "displayName": "Ian Lo",
      "userId": "05875249287392026449"
     },
     "user_tz": 240
    },
    "id": "dUHyiFYytWGP",
    "outputId": "15dbb4b7-29a4-425e-eb28-167df47aae6a"
   },
   "outputs": [
    {
     "name": "stdout",
     "output_type": "stream",
     "text": [
      "Requirement already satisfied: imblearn in /usr/local/lib/python3.7/dist-packages (0.0)\n",
      "Requirement already satisfied: imbalanced-learn in /usr/local/lib/python3.7/dist-packages (from imblearn) (0.8.1)\n",
      "Requirement already satisfied: joblib>=0.11 in /usr/local/lib/python3.7/dist-packages (from imbalanced-learn->imblearn) (1.1.0)\n",
      "Requirement already satisfied: numpy>=1.13.3 in /usr/local/lib/python3.7/dist-packages (from imbalanced-learn->imblearn) (1.21.6)\n",
      "Requirement already satisfied: scipy>=0.19.1 in /usr/local/lib/python3.7/dist-packages (from imbalanced-learn->imblearn) (1.4.1)\n",
      "Requirement already satisfied: scikit-learn>=0.24 in /usr/local/lib/python3.7/dist-packages (from imbalanced-learn->imblearn) (1.0.2)\n",
      "Requirement already satisfied: threadpoolctl>=2.0.0 in /usr/local/lib/python3.7/dist-packages (from scikit-learn>=0.24->imbalanced-learn->imblearn) (3.1.0)\n"
     ]
    }
   ],
   "source": [
    "% pip install imblearn"
   ]
  },
  {
   "cell_type": "code",
   "execution_count": null,
   "metadata": {
    "colab": {
     "base_uri": "https://localhost:8080/"
    },
    "executionInfo": {
     "elapsed": 18449,
     "status": "ok",
     "timestamp": 1652034247390,
     "user": {
      "displayName": "Ian Lo",
      "userId": "05875249287392026449"
     },
     "user_tz": 240
    },
    "id": "ucZGNHKssgXe",
    "outputId": "0abee6cf-6abd-400b-cdf0-0ebb2eaf79d6"
   },
   "outputs": [
    {
     "name": "stdout",
     "output_type": "stream",
     "text": [
      "Mounted at /content/drive\n"
     ]
    }
   ],
   "source": [
    "from google.colab import drive\n",
    "drive.mount('/content/drive')"
   ]
  },
  {
   "cell_type": "code",
   "execution_count": null,
   "metadata": {
    "id": "NZpnL8L9skOP"
   },
   "outputs": [],
   "source": [
    "base_dir = 'drive/My Drive/20.C51 project/Code/'"
   ]
  },
  {
   "cell_type": "code",
   "execution_count": null,
   "metadata": {
    "colab": {
     "base_uri": "https://localhost:8080/"
    },
    "executionInfo": {
     "elapsed": 13098,
     "status": "ok",
     "timestamp": 1652034260484,
     "user": {
      "displayName": "Ian Lo",
      "userId": "05875249287392026449"
     },
     "user_tz": 240
    },
    "id": "abDAeaomtajL",
    "outputId": "97cf6026-8ff0-44f0-8061-8c9eaa0c4aee"
   },
   "outputs": [
    {
     "name": "stderr",
     "output_type": "stream",
     "text": [
      "/usr/local/lib/python3.7/dist-packages/IPython/core/interactiveshell.py:2882: DtypeWarning: Columns (4) have mixed types.Specify dtype option on import or set low_memory=False.\n",
      "  exec(code_obj, self.user_global_ns, self.user_ns)\n"
     ]
    }
   ],
   "source": [
    "from sklearn import preprocessing\n",
    "filename = 'df_ortholog.csv'\n",
    "df = pd.read_csv(os.path.join(base_dir, filename)) \n",
    "\n",
    "# filter out gene sequences whose lengths aren't multiples of 3\n",
    "df = df[df['gene_sequence'].map(len)%3==0]\n",
    "\n",
    "# filter out gene sequences that contain non ATGC letters\n",
    "nonATGC = [any(letter not in ['A','T','G','C'] for letter in seq) for seq in df[\"gene_sequence\"]]\n",
    "datafilter = [not elem for elem in nonATGC]\n",
    "data = df[datafilter]\n",
    "\n",
    "# Binarize strand\n",
    "lb = preprocessing.LabelBinarizer()\n",
    "lb.fit([0, 1])\n",
    "data[\"strand\"] = lb.transform(data[[\"strand\"]])\n",
    "\n",
    "# Create dummy variables for operon position\n",
    "data = pd.get_dummies(data, columns=['operon_pos'], drop_first=True)\n",
    "\n",
    "# Recode essentiality\n",
    "data['essentiality'] = data['essentiality'].astype('category')\n",
    "encode_map = {\n",
    "    'E': 1,\n",
    "    'NE': 0\n",
    "}\n",
    "data['essentiality'].replace(encode_map, inplace=True)\n",
    "\n",
    "# Reset indices\n",
    "data.index = range(data.shape[0])\n",
    "\n",
    "# Remove Unnamed columns (first two columns)\n",
    "data = data.iloc[:,2:]\n",
    "\n",
    "# Reorder columns\n",
    "data = data[['geneID', 'SpeciesName', 'locus', 'gene', \n",
    "              'Gram','Taxonomy', 'taxaID', 'gene_sequence',\n",
    "              'protein_sequence','strand','orthogroup',\n",
    "              'operon_pos_1','operon_pos_2',\n",
    "              'essentiality',]]\n"
   ]
  },
  {
   "cell_type": "code",
   "execution_count": null,
   "metadata": {
    "id": "c6ZsCCFUaEBx"
   },
   "outputs": [],
   "source": [
    "# Define which subset of the data should be used\n",
    "subset = \"All\"\n",
    "\n",
    "if subset == \"GN\":\n",
    "  data  = data[data['Gram'] == \"GN\"]\n",
    "elif subset == \"GP\":\n",
    "  data  = data[data['Gram'] == \"GP\"]"
   ]
  },
  {
   "cell_type": "code",
   "execution_count": null,
   "metadata": {
    "colab": {
     "base_uri": "https://localhost:8080/"
    },
    "executionInfo": {
     "elapsed": 43,
     "status": "ok",
     "timestamp": 1652034260486,
     "user": {
      "displayName": "Ian Lo",
      "userId": "05875249287392026449"
     },
     "user_tz": 240
    },
    "id": "L2Bt2AjtN05G",
    "outputId": "117d0fd7-cada-47f8-d161-c3a8d50af295"
   },
   "outputs": [
    {
     "data": {
      "text/html": [
       "\n",
       "  <div id=\"df-c1b4d252-950e-424f-9dae-9ddc5eceaa6c\">\n",
       "    <div class=\"colab-df-container\">\n",
       "      <div>\n",
       "<style scoped>\n",
       "    .dataframe tbody tr th:only-of-type {\n",
       "        vertical-align: middle;\n",
       "    }\n",
       "\n",
       "    .dataframe tbody tr th {\n",
       "        vertical-align: top;\n",
       "    }\n",
       "\n",
       "    .dataframe thead th {\n",
       "        text-align: right;\n",
       "    }\n",
       "</style>\n",
       "<table border=\"1\" class=\"dataframe\">\n",
       "  <thead>\n",
       "    <tr style=\"text-align: right;\">\n",
       "      <th></th>\n",
       "      <th>geneID</th>\n",
       "      <th>SpeciesName</th>\n",
       "      <th>locus</th>\n",
       "      <th>gene</th>\n",
       "      <th>Gram</th>\n",
       "      <th>Taxonomy</th>\n",
       "      <th>taxaID</th>\n",
       "      <th>gene_sequence</th>\n",
       "      <th>protein_sequence</th>\n",
       "      <th>strand</th>\n",
       "      <th>orthogroup</th>\n",
       "      <th>operon_pos_1</th>\n",
       "      <th>operon_pos_2</th>\n",
       "      <th>essentiality</th>\n",
       "    </tr>\n",
       "  </thead>\n",
       "  <tbody>\n",
       "    <tr>\n",
       "      <th>0</th>\n",
       "      <td>Bacteroides fragilis 638R_BF638R_0014</td>\n",
       "      <td>Bacteroides fragilis 638R</td>\n",
       "      <td>BF638R_0014</td>\n",
       "      <td>NaN</td>\n",
       "      <td>GN</td>\n",
       "      <td>Bacteroidetes</td>\n",
       "      <td>862962</td>\n",
       "      <td>ATGACTATTATTTTTCCTTCTCCTATATTCGGACCGGTTCATTCAC...</td>\n",
       "      <td>MTIIFPSPIFGPVHSRRLGVSLGINLLPSDGKVCSFDCIYCECGYN...</td>\n",
       "      <td>1</td>\n",
       "      <td>OG0003967</td>\n",
       "      <td>0</td>\n",
       "      <td>1</td>\n",
       "      <td>1</td>\n",
       "    </tr>\n",
       "    <tr>\n",
       "      <th>1</th>\n",
       "      <td>Bacteroides fragilis 638R_BF638R_0030</td>\n",
       "      <td>Bacteroides fragilis 638R</td>\n",
       "      <td>BF638R_0030</td>\n",
       "      <td>NaN</td>\n",
       "      <td>GN</td>\n",
       "      <td>Bacteroidetes</td>\n",
       "      <td>862962</td>\n",
       "      <td>ATGTTACTTCTTTATATGGCATCATTATCTGAGTCCATATACCCGG...</td>\n",
       "      <td>MLLLYMASLSESIYPGSSARIPGLMGLCTRDDGHRYAGRDKEKTIF...</td>\n",
       "      <td>0</td>\n",
       "      <td>NaN</td>\n",
       "      <td>0</td>\n",
       "      <td>0</td>\n",
       "      <td>1</td>\n",
       "    </tr>\n",
       "    <tr>\n",
       "      <th>2</th>\n",
       "      <td>Bacteroides fragilis 638R_BF638R_0032</td>\n",
       "      <td>Bacteroides fragilis 638R</td>\n",
       "      <td>BF638R_0032</td>\n",
       "      <td>NaN</td>\n",
       "      <td>GN</td>\n",
       "      <td>Bacteroidetes</td>\n",
       "      <td>862962</td>\n",
       "      <td>ATGACAAAAGGATCTTTATTACGAAAAAGATATACATCGCAATTCT...</td>\n",
       "      <td>MTKGSLLRKRYTSQFCTKYYPFLLKDYTQSGCSKNHILAATTIVKI...</td>\n",
       "      <td>0</td>\n",
       "      <td>NaN</td>\n",
       "      <td>0</td>\n",
       "      <td>1</td>\n",
       "      <td>1</td>\n",
       "    </tr>\n",
       "    <tr>\n",
       "      <th>3</th>\n",
       "      <td>Bacteroides fragilis 638R_BF638R_0042</td>\n",
       "      <td>Bacteroides fragilis 638R</td>\n",
       "      <td>BF638R_0042</td>\n",
       "      <td>NaN</td>\n",
       "      <td>GN</td>\n",
       "      <td>Bacteroidetes</td>\n",
       "      <td>862962</td>\n",
       "      <td>ATGAGTAAAAAGATTTTTGCGGCCCTGATAGTCGCTGTAGTCGCAA...</td>\n",
       "      <td>MSKKIFAALIVAVVATFAGYNIYQSQRVESIMSDLTMANVEALAGS...</td>\n",
       "      <td>1</td>\n",
       "      <td>OG0006518</td>\n",
       "      <td>0</td>\n",
       "      <td>0</td>\n",
       "      <td>1</td>\n",
       "    </tr>\n",
       "    <tr>\n",
       "      <th>4</th>\n",
       "      <td>Bacteroides fragilis 638R_BF638R_0051</td>\n",
       "      <td>Bacteroides fragilis 638R</td>\n",
       "      <td>BF638R_0051</td>\n",
       "      <td>NaN</td>\n",
       "      <td>GN</td>\n",
       "      <td>Bacteroidetes</td>\n",
       "      <td>862962</td>\n",
       "      <td>ATGAATAAACTCACTATAAATGCCTGTCCGCTATGTGGGGGCGCAC...</td>\n",
       "      <td>MNKLTINACPLCGGAHLKRAMTCTDFYASGEQFDLYTCEDCGFTFT...</td>\n",
       "      <td>1</td>\n",
       "      <td>OG0000156</td>\n",
       "      <td>0</td>\n",
       "      <td>1</td>\n",
       "      <td>1</td>\n",
       "    </tr>\n",
       "  </tbody>\n",
       "</table>\n",
       "</div>\n",
       "      <button class=\"colab-df-convert\" onclick=\"convertToInteractive('df-c1b4d252-950e-424f-9dae-9ddc5eceaa6c')\"\n",
       "              title=\"Convert this dataframe to an interactive table.\"\n",
       "              style=\"display:none;\">\n",
       "        \n",
       "  <svg xmlns=\"http://www.w3.org/2000/svg\" height=\"24px\"viewBox=\"0 0 24 24\"\n",
       "       width=\"24px\">\n",
       "    <path d=\"M0 0h24v24H0V0z\" fill=\"none\"/>\n",
       "    <path d=\"M18.56 5.44l.94 2.06.94-2.06 2.06-.94-2.06-.94-.94-2.06-.94 2.06-2.06.94zm-11 1L8.5 8.5l.94-2.06 2.06-.94-2.06-.94L8.5 2.5l-.94 2.06-2.06.94zm10 10l.94 2.06.94-2.06 2.06-.94-2.06-.94-.94-2.06-.94 2.06-2.06.94z\"/><path d=\"M17.41 7.96l-1.37-1.37c-.4-.4-.92-.59-1.43-.59-.52 0-1.04.2-1.43.59L10.3 9.45l-7.72 7.72c-.78.78-.78 2.05 0 2.83L4 21.41c.39.39.9.59 1.41.59.51 0 1.02-.2 1.41-.59l7.78-7.78 2.81-2.81c.8-.78.8-2.07 0-2.86zM5.41 20L4 18.59l7.72-7.72 1.47 1.35L5.41 20z\"/>\n",
       "  </svg>\n",
       "      </button>\n",
       "      \n",
       "  <style>\n",
       "    .colab-df-container {\n",
       "      display:flex;\n",
       "      flex-wrap:wrap;\n",
       "      gap: 12px;\n",
       "    }\n",
       "\n",
       "    .colab-df-convert {\n",
       "      background-color: #E8F0FE;\n",
       "      border: none;\n",
       "      border-radius: 50%;\n",
       "      cursor: pointer;\n",
       "      display: none;\n",
       "      fill: #1967D2;\n",
       "      height: 32px;\n",
       "      padding: 0 0 0 0;\n",
       "      width: 32px;\n",
       "    }\n",
       "\n",
       "    .colab-df-convert:hover {\n",
       "      background-color: #E2EBFA;\n",
       "      box-shadow: 0px 1px 2px rgba(60, 64, 67, 0.3), 0px 1px 3px 1px rgba(60, 64, 67, 0.15);\n",
       "      fill: #174EA6;\n",
       "    }\n",
       "\n",
       "    [theme=dark] .colab-df-convert {\n",
       "      background-color: #3B4455;\n",
       "      fill: #D2E3FC;\n",
       "    }\n",
       "\n",
       "    [theme=dark] .colab-df-convert:hover {\n",
       "      background-color: #434B5C;\n",
       "      box-shadow: 0px 1px 3px 1px rgba(0, 0, 0, 0.15);\n",
       "      filter: drop-shadow(0px 1px 2px rgba(0, 0, 0, 0.3));\n",
       "      fill: #FFFFFF;\n",
       "    }\n",
       "  </style>\n",
       "\n",
       "      <script>\n",
       "        const buttonEl =\n",
       "          document.querySelector('#df-c1b4d252-950e-424f-9dae-9ddc5eceaa6c button.colab-df-convert');\n",
       "        buttonEl.style.display =\n",
       "          google.colab.kernel.accessAllowed ? 'block' : 'none';\n",
       "\n",
       "        async function convertToInteractive(key) {\n",
       "          const element = document.querySelector('#df-c1b4d252-950e-424f-9dae-9ddc5eceaa6c');\n",
       "          const dataTable =\n",
       "            await google.colab.kernel.invokeFunction('convertToInteractive',\n",
       "                                                     [key], {});\n",
       "          if (!dataTable) return;\n",
       "\n",
       "          const docLinkHtml = 'Like what you see? Visit the ' +\n",
       "            '<a target=\"_blank\" href=https://colab.research.google.com/notebooks/data_table.ipynb>data table notebook</a>'\n",
       "            + ' to learn more about interactive tables.';\n",
       "          element.innerHTML = '';\n",
       "          dataTable['output_type'] = 'display_data';\n",
       "          await google.colab.output.renderOutput(dataTable, element);\n",
       "          const docLink = document.createElement('div');\n",
       "          docLink.innerHTML = docLinkHtml;\n",
       "          element.appendChild(docLink);\n",
       "        }\n",
       "      </script>\n",
       "    </div>\n",
       "  </div>\n",
       "  "
      ],
      "text/plain": [
       "                                  geneID                SpeciesName  \\\n",
       "0  Bacteroides fragilis 638R_BF638R_0014  Bacteroides fragilis 638R   \n",
       "1  Bacteroides fragilis 638R_BF638R_0030  Bacteroides fragilis 638R   \n",
       "2  Bacteroides fragilis 638R_BF638R_0032  Bacteroides fragilis 638R   \n",
       "3  Bacteroides fragilis 638R_BF638R_0042  Bacteroides fragilis 638R   \n",
       "4  Bacteroides fragilis 638R_BF638R_0051  Bacteroides fragilis 638R   \n",
       "\n",
       "         locus gene Gram       Taxonomy  taxaID  \\\n",
       "0  BF638R_0014  NaN   GN  Bacteroidetes  862962   \n",
       "1  BF638R_0030  NaN   GN  Bacteroidetes  862962   \n",
       "2  BF638R_0032  NaN   GN  Bacteroidetes  862962   \n",
       "3  BF638R_0042  NaN   GN  Bacteroidetes  862962   \n",
       "4  BF638R_0051  NaN   GN  Bacteroidetes  862962   \n",
       "\n",
       "                                       gene_sequence  \\\n",
       "0  ATGACTATTATTTTTCCTTCTCCTATATTCGGACCGGTTCATTCAC...   \n",
       "1  ATGTTACTTCTTTATATGGCATCATTATCTGAGTCCATATACCCGG...   \n",
       "2  ATGACAAAAGGATCTTTATTACGAAAAAGATATACATCGCAATTCT...   \n",
       "3  ATGAGTAAAAAGATTTTTGCGGCCCTGATAGTCGCTGTAGTCGCAA...   \n",
       "4  ATGAATAAACTCACTATAAATGCCTGTCCGCTATGTGGGGGCGCAC...   \n",
       "\n",
       "                                    protein_sequence  strand orthogroup  \\\n",
       "0  MTIIFPSPIFGPVHSRRLGVSLGINLLPSDGKVCSFDCIYCECGYN...       1  OG0003967   \n",
       "1  MLLLYMASLSESIYPGSSARIPGLMGLCTRDDGHRYAGRDKEKTIF...       0        NaN   \n",
       "2  MTKGSLLRKRYTSQFCTKYYPFLLKDYTQSGCSKNHILAATTIVKI...       0        NaN   \n",
       "3  MSKKIFAALIVAVVATFAGYNIYQSQRVESIMSDLTMANVEALAGS...       1  OG0006518   \n",
       "4  MNKLTINACPLCGGAHLKRAMTCTDFYASGEQFDLYTCEDCGFTFT...       1  OG0000156   \n",
       "\n",
       "   operon_pos_1  operon_pos_2  essentiality  \n",
       "0             0             1             1  \n",
       "1             0             0             1  \n",
       "2             0             1             1  \n",
       "3             0             0             1  \n",
       "4             0             1             1  "
      ]
     },
     "execution_count": 10,
     "metadata": {},
     "output_type": "execute_result"
    }
   ],
   "source": [
    "data.head()"
   ]
  },
  {
   "cell_type": "code",
   "execution_count": null,
   "metadata": {
    "colab": {
     "base_uri": "https://localhost:8080/"
    },
    "executionInfo": {
     "elapsed": 19,
     "status": "ok",
     "timestamp": 1652034260487,
     "user": {
      "displayName": "Ian Lo",
      "userId": "05875249287392026449"
     },
     "user_tz": 240
    },
    "id": "r2Uog2wArJlV",
    "outputId": "5ceb313e-7d52-489a-d24b-d821fc13177d"
   },
   "outputs": [
    {
     "data": {
      "text/plain": [
       "(92624, 14)"
      ]
     },
     "execution_count": 11,
     "metadata": {},
     "output_type": "execute_result"
    }
   ],
   "source": [
    "data.shape"
   ]
  },
  {
   "cell_type": "code",
   "execution_count": null,
   "metadata": {
    "colab": {
     "base_uri": "https://localhost:8080/"
    },
    "executionInfo": {
     "elapsed": 16,
     "status": "ok",
     "timestamp": 1652034260488,
     "user": {
      "displayName": "Ian Lo",
      "userId": "05875249287392026449"
     },
     "user_tz": 240
    },
    "id": "ZhXY7Bnbp6Gr",
    "outputId": "e79ba68a-d910-4500-be7d-c52c33f5955f"
   },
   "outputs": [
    {
     "data": {
      "text/plain": [
       "0    70349\n",
       "1    22275\n",
       "Name: essentiality, dtype: int64"
      ]
     },
     "execution_count": 12,
     "metadata": {},
     "output_type": "execute_result"
    }
   ],
   "source": [
    "# essentiality vs. non-essential\n",
    "data['essentiality'].value_counts()"
   ]
  },
  {
   "cell_type": "markdown",
   "metadata": {
    "id": "BNAYCiHCcWFt"
   },
   "source": [
    "# Featurization"
   ]
  },
  {
   "cell_type": "markdown",
   "metadata": {
    "id": "1vtm66btFmU2"
   },
   "source": [
    "### GC Content"
   ]
  },
  {
   "cell_type": "code",
   "execution_count": null,
   "metadata": {
    "id": "Ar4mP6aZ2_0_"
   },
   "outputs": [],
   "source": [
    "# returns the GC content of a gene sequence\n",
    "def getGCcontent(sequence):\n",
    "  gc = (sequence.count('G') + sequence.count('C'))/len(sequence)\n",
    "  return gc"
   ]
  },
  {
   "cell_type": "markdown",
   "metadata": {
    "id": "arvhj834FqGu"
   },
   "source": [
    "### Codon Frequency"
   ]
  },
  {
   "cell_type": "code",
   "execution_count": null,
   "metadata": {
    "id": "rsrstU_cCiRj"
   },
   "outputs": [],
   "source": [
    "# codons dictionary\n",
    "CodonDict = {\n",
    "    'TTT': 0, 'TTC': 0, 'TTA': 0, 'TTG': 0, 'CTT': 0,\n",
    "    'CTC': 0, 'CTA': 0, 'CTG': 0, 'ATT': 0, 'ATC': 0,\n",
    "    'ATA': 0, 'ATG': 0, 'GTT': 0, 'GTC': 0, 'GTA': 0,\n",
    "    'GTG': 0, 'TAT': 0, 'TAC': 0, 'TAA': 0, 'TAG': 0,\n",
    "    'CAT': 0, 'CAC': 0, 'CAA': 0, 'CAG': 0, 'AAT': 0,\n",
    "    'AAC': 0, 'AAA': 0, 'AAG': 0, 'GAT': 0, 'GAC': 0,\n",
    "    'GAA': 0, 'GAG': 0, 'TCT': 0, 'TCC': 0, 'TCA': 0,\n",
    "    'TCG': 0, 'CCT': 0, 'CCC': 0, 'CCA': 0, 'CCG': 0,\n",
    "    'ACT': 0, 'ACC': 0, 'ACA': 0, 'ACG': 0, 'GCT': 0,\n",
    "    'GCC': 0, 'GCA': 0, 'GCG': 0, 'TGT': 0, 'TGC': 0,\n",
    "    'TGA': 0, 'TGG': 0, 'CGT': 0, 'CGC': 0, 'CGA': 0,\n",
    "    'CGG': 0, 'AGT': 0, 'AGC': 0, 'AGA': 0, 'AGG': 0,\n",
    "    'GGT': 0, 'GGC': 0, 'GGA': 0, 'GGG': 0}\n",
    "    \n",
    "# returns 64-value vector\n",
    "def getCodonFreq(sequence):\n",
    "  temp_dict = CodonDict.copy()\n",
    "  FreqList = list()\n",
    "  num_codons = len(sequence)/3\n",
    "  for j in range(0, len(sequence)-2, 3):\n",
    "    codon = sequence[j:j+3]\n",
    "    if codon in CodonDict.keys():\n",
    "      temp_dict[codon] += 1\n",
    "\n",
    "  temp_dict.update((x, y/num_codons) for x, y in temp_dict.items())\n",
    "\n",
    "  for codon in temp_dict.keys():\n",
    "      FreqList.append(temp_dict[codon])\n",
    "  return FreqList"
   ]
  },
  {
   "cell_type": "markdown",
   "metadata": {
    "id": "l3IQ_lDfFsdi"
   },
   "source": [
    "### Codon Adaptation Index"
   ]
  },
  {
   "cell_type": "code",
   "execution_count": null,
   "metadata": {
    "colab": {
     "base_uri": "https://localhost:8080/"
    },
    "executionInfo": {
     "elapsed": 3978,
     "status": "ok",
     "timestamp": 1652034293571,
     "user": {
      "displayName": "Ian Lo",
      "userId": "05875249287392026449"
     },
     "user_tz": 240
    },
    "id": "apGc7AqJvsiq",
    "outputId": "31606b22-cc72-4d65-a00f-8bbc40dafdb9"
   },
   "outputs": [
    {
     "name": "stdout",
     "output_type": "stream",
     "text": [
      "Collecting Bio\n",
      "  Downloading bio-1.3.8-py3-none-any.whl (269 kB)\n",
      "\u001b[?25l\r",
      "\u001b[K     |█▏                              | 10 kB 37.5 MB/s eta 0:00:01\r",
      "\u001b[K     |██▍                             | 20 kB 17.2 MB/s eta 0:00:01\r",
      "\u001b[K     |███▋                            | 30 kB 10.1 MB/s eta 0:00:01\r",
      "\u001b[K     |████▉                           | 40 kB 8.3 MB/s eta 0:00:01\r",
      "\u001b[K     |██████                          | 51 kB 4.4 MB/s eta 0:00:01\r",
      "\u001b[K     |███████▎                        | 61 kB 5.3 MB/s eta 0:00:01\r",
      "\u001b[K     |████████▌                       | 71 kB 5.3 MB/s eta 0:00:01\r",
      "\u001b[K     |█████████▊                      | 81 kB 5.4 MB/s eta 0:00:01\r",
      "\u001b[K     |███████████                     | 92 kB 6.0 MB/s eta 0:00:01\r",
      "\u001b[K     |████████████▏                   | 102 kB 5.1 MB/s eta 0:00:01\r",
      "\u001b[K     |█████████████▍                  | 112 kB 5.1 MB/s eta 0:00:01\r",
      "\u001b[K     |██████████████▋                 | 122 kB 5.1 MB/s eta 0:00:01\r",
      "\u001b[K     |███████████████▉                | 133 kB 5.1 MB/s eta 0:00:01\r",
      "\u001b[K     |█████████████████               | 143 kB 5.1 MB/s eta 0:00:01\r",
      "\u001b[K     |██████████████████▏             | 153 kB 5.1 MB/s eta 0:00:01\r",
      "\u001b[K     |███████████████████▍            | 163 kB 5.1 MB/s eta 0:00:01\r",
      "\u001b[K     |████████████████████▋           | 174 kB 5.1 MB/s eta 0:00:01\r",
      "\u001b[K     |█████████████████████▉          | 184 kB 5.1 MB/s eta 0:00:01\r",
      "\u001b[K     |███████████████████████         | 194 kB 5.1 MB/s eta 0:00:01\r",
      "\u001b[K     |████████████████████████▎       | 204 kB 5.1 MB/s eta 0:00:01\r",
      "\u001b[K     |█████████████████████████▌      | 215 kB 5.1 MB/s eta 0:00:01\r",
      "\u001b[K     |██████████████████████████▊     | 225 kB 5.1 MB/s eta 0:00:01\r",
      "\u001b[K     |████████████████████████████    | 235 kB 5.1 MB/s eta 0:00:01\r",
      "\u001b[K     |█████████████████████████████▏  | 245 kB 5.1 MB/s eta 0:00:01\r",
      "\u001b[K     |██████████████████████████████▍ | 256 kB 5.1 MB/s eta 0:00:01\r",
      "\u001b[K     |███████████████████████████████▋| 266 kB 5.1 MB/s eta 0:00:01\r",
      "\u001b[K     |████████████████████████████████| 269 kB 5.1 MB/s \n",
      "\u001b[?25hRequirement already satisfied: tqdm in /usr/local/lib/python3.7/dist-packages (from Bio) (4.64.0)\n",
      "Requirement already satisfied: requests in /usr/local/lib/python3.7/dist-packages (from Bio) (2.23.0)\n",
      "Collecting mygene\n",
      "  Downloading mygene-3.2.2-py2.py3-none-any.whl (5.4 kB)\n",
      "Collecting biopython>=1.79\n",
      "  Downloading biopython-1.79-cp37-cp37m-manylinux_2_5_x86_64.manylinux1_x86_64.whl (2.3 MB)\n",
      "\u001b[K     |████████████████████████████████| 2.3 MB 79.5 MB/s \n",
      "\u001b[?25hRequirement already satisfied: numpy in /usr/local/lib/python3.7/dist-packages (from biopython>=1.79->Bio) (1.21.6)\n",
      "Collecting biothings-client>=0.2.6\n",
      "  Downloading biothings_client-0.2.6-py2.py3-none-any.whl (37 kB)\n",
      "Requirement already satisfied: urllib3!=1.25.0,!=1.25.1,<1.26,>=1.21.1 in /usr/local/lib/python3.7/dist-packages (from requests->Bio) (1.24.3)\n",
      "Requirement already satisfied: idna<3,>=2.5 in /usr/local/lib/python3.7/dist-packages (from requests->Bio) (2.10)\n",
      "Requirement already satisfied: certifi>=2017.4.17 in /usr/local/lib/python3.7/dist-packages (from requests->Bio) (2021.10.8)\n",
      "Requirement already satisfied: chardet<4,>=3.0.2 in /usr/local/lib/python3.7/dist-packages (from requests->Bio) (3.0.4)\n",
      "Installing collected packages: biothings-client, mygene, biopython, Bio\n",
      "Successfully installed Bio-1.3.8 biopython-1.79 biothings-client-0.2.6 mygene-3.2.2\n"
     ]
    }
   ],
   "source": [
    "!pip install Bio\n",
    "from Bio.SeqUtils.CodonUsage import CodonAdaptationIndex\n",
    "def getCAI(sequence):\n",
    "\n",
    "  cai = CodonAdaptationIndex()\n",
    "  score = cai.cai_for_gene(sequence)\n",
    "\n",
    "  return score"
   ]
  },
  {
   "cell_type": "markdown",
   "metadata": {
    "id": "nh2R2hYbFu8F"
   },
   "source": [
    "### Protein Sequence AA Frequency"
   ]
  },
  {
   "cell_type": "code",
   "execution_count": null,
   "metadata": {
    "id": "ruIT6mCIg4RB"
   },
   "outputs": [],
   "source": [
    "# amino acids dictionary\n",
    "AminoAcidDict = {\n",
    "    'A': 0, 'R': 0, 'N': 0, 'D': 0,\n",
    "    'C': 0, 'Q': 0, 'E': 0, 'G': 0,\n",
    "    'H': 0, 'I': 0, 'L': 0, 'K': 0,\n",
    "    'M': 0, 'F': 0, 'P': 0, 'S': 0,\n",
    "    'T': 0, 'W': 0, 'Y': 0, 'V': 0\n",
    "}\n",
    "# returns protein sequence amino acid count / protein length (20 value vector)\n",
    "def getProteinFreq(protein_sequence):\n",
    "    AminoAcids = AminoAcidDict.copy()\n",
    "\n",
    "    for i in range(0, len(protein_sequence)):\n",
    "        if protein_sequence[i] in AminoAcids:\n",
    "            AminoAcids[protein_sequence[i]] += 1           \n",
    "\n",
    "    FreqList = list()\n",
    "    for key in AminoAcids:\n",
    "        FreqList.append(AminoAcids[key]/len(protein_sequence))\n",
    "    #FreqList.append(len(protein_sequence))\n",
    "    return FreqList"
   ]
  },
  {
   "cell_type": "code",
   "execution_count": null,
   "metadata": {
    "id": "dGAqPh8RUHXT"
   },
   "outputs": [],
   "source": [
    "def featurize(sequence, protein_sequence):\n",
    "    '''\n",
    "    Get gene sequence-based features\n",
    "    \n",
    "    Args: \n",
    "        sequence (str): gene sequence\n",
    "        protein_sequence (str): protein sequence\n",
    "    \n",
    "    Returns: \n",
    "        x(list): 88 element feature vector including GC content, gene length, \\\n",
    "        codon frequency, CAI, amino acid count, protein length\n",
    "    '''\n",
    "    \n",
    "    GC = getGCcontent( sequence )\n",
    "    geneLength = float(len( sequence ))\n",
    "    codonFreq = getCodonFreq( sequence )\n",
    "    CAI = getCAI( sequence )\n",
    "    proteinFeat = getProteinFreq( protein_sequence )\n",
    "\n",
    "    X = [geneLength] + [GC] + codonFreq + [CAI] + proteinFeat\n",
    "    \n",
    "    return X"
   ]
  },
  {
   "cell_type": "markdown",
   "metadata": {
    "id": "UHunJd1s-ydr"
   },
   "source": [
    "Features:\n",
    "\n",
    "*   Gene length (numeric)\n",
    "*   GC Content (numeric)\n",
    "*   Codon frequency (64-unit vector)\n",
    "*   Codon Adaptation Index CAI (numeric)\n",
    "*   Protein amino acid frequency (19-unit vector)\n",
    "*   Strand (numeric)\n",
    "*   Operon position (numeric)"
   ]
  },
  {
   "cell_type": "code",
   "execution_count": null,
   "metadata": {
    "id": "tph1mOzHZsgM"
   },
   "outputs": [],
   "source": [
    "# get feature vector X, get vector y of essentiality labels\n",
    "def getXy(df):\n",
    "\n",
    "  X = []\n",
    "  for i in range(df.shape[0]):\n",
    "    gene_seq = df[\"gene_sequence\"][i]\n",
    "    protein_seq = df[\"protein_sequence\"][i]\n",
    "    feature_vec = featurize(gene_seq, protein_seq) + [df[\"strand\"][i]] + [df[\"operon_pos_1\"][i]] + [df[\"operon_pos_2\"][i]]\n",
    "    X.append(np.array(feature_vec))\n",
    "\n",
    "  X = np.array(X)\n",
    "  y = np.array(df[\"essentiality\"])\n",
    "  return X, y"
   ]
  },
  {
   "cell_type": "markdown",
   "metadata": {
    "id": "xW2ozWgp53km"
   },
   "source": [
    "# Train/Val/Test Split"
   ]
  },
  {
   "cell_type": "markdown",
   "metadata": {
    "id": "5JxFFwJk5rdX"
   },
   "source": [
    "Train/Val/Test Split based on Orthology Group"
   ]
  },
  {
   "cell_type": "code",
   "execution_count": null,
   "metadata": {
    "colab": {
     "base_uri": "https://localhost:8080/"
    },
    "executionInfo": {
     "elapsed": 142,
     "status": "ok",
     "timestamp": 1652034320633,
     "user": {
      "displayName": "Ian Lo",
      "userId": "05875249287392026449"
     },
     "user_tz": 240
    },
    "id": "SeURSZFa5DnQ",
    "outputId": "970dd360-0bb1-48be-89a7-da760cf53cc3"
   },
   "outputs": [
    {
     "name": "stdout",
     "output_type": "stream",
     "text": [
      "82706\n",
      "9918\n"
     ]
    }
   ],
   "source": [
    "# genes with mapped orthogroups\n",
    "data_orthogroup = data.loc[data.orthogroup.notna()]\n",
    "data_orthogroup.index = range(data_orthogroup.shape[0])\n",
    "print(data_orthogroup.shape[0])\n",
    "\n",
    "# genes without orthogroups\n",
    "data_no_orthogroup = data.loc[data.orthogroup.isna()]\n",
    "data_no_orthogroup.index = range(data_no_orthogroup.shape[0])\n",
    "print(data_no_orthogroup.shape[0])"
   ]
  },
  {
   "cell_type": "code",
   "execution_count": null,
   "metadata": {
    "colab": {
     "base_uri": "https://localhost:8080/"
    },
    "executionInfo": {
     "elapsed": 125,
     "status": "ok",
     "timestamp": 1651985617065,
     "user": {
      "displayName": "Carolin Schulte",
      "userId": "04929166097189432726"
     },
     "user_tz": 240
    },
    "id": "jf-vwlDS2Iep",
    "outputId": "9a3f9a09-466f-48ca-9a29-a6bc654485c8"
   },
   "outputs": [
    {
     "data": {
      "text/plain": [
       "(58222, 7529, 16955)"
      ]
     },
     "execution_count": 17,
     "metadata": {},
     "output_type": "execute_result"
    }
   ],
   "source": [
    "# split genes with orthogroups into train/val/test such that an orthogroup only appears in train or test, not both\n",
    "# 70/10/20 train/val/test\n",
    "from sklearn.model_selection import GroupShuffleSplit\n",
    "# split into train+validation and test\n",
    "gss1 = GroupShuffleSplit(n_splits=1, test_size=.2, random_state=20)\n",
    "train_val_idx, test_idx = next(gss1.split(data_orthogroup, groups= data_orthogroup[\"orthogroup\"]))\n",
    "orthogroup_train_val = data_orthogroup.iloc[train_val_idx,:]\n",
    "orthogroup_test = data_orthogroup.iloc[test_idx,:]   \n",
    "\n",
    "orthogroup_train_val = orthogroup_train_val.reset_index(drop=True)\n",
    "# split into train and validation\n",
    "gss2 = GroupShuffleSplit(n_splits=1, test_size=.125, random_state=20)\n",
    "train_idx, val_idx = next(gss2.split(orthogroup_train_val, groups=orthogroup_train_val[\"orthogroup\"]))\n",
    "orthogroup_train = orthogroup_train_val.iloc[train_idx,:]\n",
    "orthogroup_val = orthogroup_train_val.iloc[val_idx,:]\n",
    "\n",
    "orthogroup_train.shape[0], orthogroup_val.shape[0], orthogroup_test.shape[0]"
   ]
  },
  {
   "cell_type": "code",
   "execution_count": null,
   "metadata": {
    "id": "Hu0RAFOkT-TO"
   },
   "outputs": [],
   "source": [
    "# split genes without orthogroups using train_test_split\n",
    "# train/val/test split 70/10/20\n",
    "no_orthogroup_train_val, no_orthogroup_test = train_test_split(data_no_orthogroup, test_size=0.2, random_state=20)\n",
    "no_orthogroup_train, no_orthogroup_val = train_test_split(no_orthogroup_train_val, test_size=0.125, random_state=20)"
   ]
  },
  {
   "cell_type": "code",
   "execution_count": null,
   "metadata": {
    "id": "ak5yNsu-R8AK"
   },
   "outputs": [],
   "source": [
    "# combine orthogroups and no orthogroup data\n",
    "data_train = pd.concat([orthogroup_train, no_orthogroup_train], ignore_index=True, axis=0)\n",
    "data_val = pd.concat([orthogroup_val, no_orthogroup_val], ignore_index=True, axis=0)\n",
    "data_test = pd.concat([orthogroup_test, no_orthogroup_test], ignore_index=True, axis=0)\n",
    "\n",
    "data_train.index = range(data_train.shape[0])\n",
    "data_val.index = range(data_val.shape[0])\n",
    "data_test.index = range(data_test.shape[0])"
   ]
  },
  {
   "cell_type": "code",
   "execution_count": null,
   "metadata": {
    "colab": {
     "base_uri": "https://localhost:8080/"
    },
    "executionInfo": {
     "elapsed": 9,
     "status": "ok",
     "timestamp": 1651985617240,
     "user": {
      "displayName": "Carolin Schulte",
      "userId": "04929166097189432726"
     },
     "user_tz": 240
    },
    "id": "AjVmVThLSuJa",
    "outputId": "a0f85bc3-23a1-4ba0-ec0a-d3255680da32"
   },
   "outputs": [
    {
     "data": {
      "text/plain": [
       "(65164, 8521, 18939)"
      ]
     },
     "execution_count": 20,
     "metadata": {},
     "output_type": "execute_result"
    }
   ],
   "source": [
    "data_train.shape[0], data_val.shape[0], data_test.shape[0]"
   ]
  },
  {
   "cell_type": "code",
   "execution_count": null,
   "metadata": {
    "colab": {
     "base_uri": "https://localhost:8080/"
    },
    "executionInfo": {
     "elapsed": 8,
     "status": "ok",
     "timestamp": 1651985617240,
     "user": {
      "displayName": "Carolin Schulte",
      "userId": "04929166097189432726"
     },
     "user_tz": 240
    },
    "id": "0RStSRxITDi1",
    "outputId": "4046baf8-d547-4f46-ce53-62850aaf5e1c"
   },
   "outputs": [
    {
     "name": "stdout",
     "output_type": "stream",
     "text": [
      "['nan']\n",
      "['nan']\n",
      "['nan']\n"
     ]
    }
   ],
   "source": [
    "# check that orthogroups don't overlap except for NaN\n",
    "ls1 = data_train.orthogroup.unique()\n",
    "ls2 = data_val.orthogroup.unique()\n",
    "ls3 = data_test.orthogroup.unique()\n",
    "ls1 = np.array([str(x) for x in ls1])\n",
    "ls2 = np.array([str(x) for x in ls2])\n",
    "ls3 = np.array([str(x) for x in ls3])\n",
    "print(np.intersect1d(ls1, ls2))\n",
    "print(np.intersect1d(ls1, ls3))\n",
    "print(np.intersect1d(ls2, ls3))"
   ]
  },
  {
   "cell_type": "markdown",
   "metadata": {
    "id": "MJVRIgJmVXro"
   },
   "source": [
    "Create Feature Vectors and Label Vectors"
   ]
  },
  {
   "cell_type": "code",
   "execution_count": null,
   "metadata": {
    "id": "4JxBLHA-VVyg"
   },
   "outputs": [],
   "source": [
    "X_train, y_train = getXy(data_train)\n",
    "X_val, y_val = getXy(data_val)\n",
    "X_test, y_test = getXy(data_test)"
   ]
  },
  {
   "cell_type": "code",
   "execution_count": null,
   "metadata": {
    "id": "ocrNBXsWoqEx"
   },
   "outputs": [],
   "source": [
    "# use this to implement oversampling of essential genes\n",
    "oversample = True # set to False to run model without oversampling\n",
    "\n",
    "from imblearn.over_sampling import RandomOverSampler\n",
    "\n",
    "if oversample == True:\n",
    "  ros = RandomOverSampler(random_state=40)\n",
    "  X_train, y_train = ros.fit_resample(X_train, y_train)"
   ]
  },
  {
   "cell_type": "code",
   "execution_count": null,
   "metadata": {
    "colab": {
     "base_uri": "https://localhost:8080/"
    },
    "executionInfo": {
     "elapsed": 9,
     "status": "ok",
     "timestamp": 1651985674825,
     "user": {
      "displayName": "Carolin Schulte",
      "userId": "04929166097189432726"
     },
     "user_tz": 240
    },
    "id": "tCCl2XtGs34F",
    "outputId": "4a236274-b357-4934-ecb7-ac4ebe642e17"
   },
   "outputs": [
    {
     "name": "stdout",
     "output_type": "stream",
     "text": [
      "49164\n",
      "49164\n"
     ]
    }
   ],
   "source": [
    "# Check results of oversampling\n",
    "print(np.count_nonzero(y_train==0))\n",
    "print(np.count_nonzero(y_train==1))"
   ]
  },
  {
   "cell_type": "code",
   "execution_count": null,
   "metadata": {
    "id": "hGmffeYpXACc"
   },
   "outputs": [],
   "source": [
    "# scale X\n",
    "from sklearn.preprocessing import StandardScaler\n",
    "\n",
    "scaler = StandardScaler().fit(X_train)\n",
    "X_train = scaler.transform(X_train)\n",
    "X_val = scaler.transform(X_val)\n",
    "X_test = scaler.transform(X_test)"
   ]
  },
  {
   "cell_type": "markdown",
   "metadata": {
    "id": "7q8aeKlAFkPi"
   },
   "source": [
    "# Baseline methods"
   ]
  },
  {
   "cell_type": "code",
   "execution_count": null,
   "metadata": {
    "id": "HMqa_Vc0uXS3"
   },
   "outputs": [],
   "source": [
    "# combine train and validation for baseline methods\n",
    "X1 = np.vstack((X_train, X_val))\n",
    "y1 = np.hstack((y_train, y_val))\n",
    "X_train1, X_test1, y_train1, y_test1 = train_test_split(X1, y1, test_size=0.2, random_state=40)"
   ]
  },
  {
   "cell_type": "markdown",
   "metadata": {
    "id": "GeDlbNI2FmPX"
   },
   "source": [
    "### Logistic regression"
   ]
  },
  {
   "cell_type": "code",
   "execution_count": null,
   "metadata": {
    "colab": {
     "base_uri": "https://localhost:8080/"
    },
    "executionInfo": {
     "elapsed": 432111,
     "status": "ok",
     "timestamp": 1651986107260,
     "user": {
      "displayName": "Carolin Schulte",
      "userId": "04929166097189432726"
     },
     "user_tz": 240
    },
    "id": "lwkBWBMTu7-G",
    "outputId": "7fdd4d8a-bd6c-40fe-ad83-f600a6900855",
    "scrolled": true
   },
   "outputs": [],
   "source": [
    "from sklearn.linear_model import LogisticRegression\n",
    "from sklearn.metrics import roc_auc_score\n",
    "from sklearn.model_selection import RandomizedSearchCV\n",
    "\n",
    "# Perform cross-validation to find best value for lambda and regularization method\n",
    "parameters = {'C': [10**i for i in range(-4,5)], \n",
    "              'penalty': ['l1', 'l2']}\n",
    "\n",
    "logmodel = LogisticRegression(solver='saga', max_iter=100, random_state=40)\n",
    "searchLog = RandomizedSearchCV(logmodel, parameters, cv=5, scoring='roc_auc', n_iter=10)\n",
    "\n",
    "searchLog.fit(X_train1, y_train1)\n",
    "\n",
    "train_auc = roc_auc_score(y_train1, searchLog.predict_proba(X_train1)[:, 1])\n",
    "test_auc = roc_auc_score(y_test1, searchLog.predict_proba(X_test1)[:, 1])\n",
    "\n",
    "print(\"The training AUC score is {:.3f}\".format(train_auc) )\n",
    "print(\"The testing AUC score is {:.3f}\".format(test_auc) )"
   ]
  },
  {
   "cell_type": "code",
   "execution_count": null,
   "metadata": {
    "colab": {
     "base_uri": "https://localhost:8080/"
    },
    "executionInfo": {
     "elapsed": 10648,
     "status": "ok",
     "timestamp": 1651986117902,
     "user": {
      "displayName": "Carolin Schulte",
      "userId": "04929166097189432726"
     },
     "user_tz": 240
    },
    "id": "Qgo_mkv9N5R5",
    "outputId": "4812f6b8-6c7d-4396-ef3b-2673f6fca1ec"
   },
   "outputs": [
    {
     "name": "stdout",
     "output_type": "stream",
     "text": [
      "The top 10 features are S, ATC, L, F, CGT, ATG, GTA, AAG, GAA, Operon position_2\n"
     ]
    },
    {
     "name": "stderr",
     "output_type": "stream",
     "text": [
      "/usr/local/lib/python3.7/dist-packages/sklearn/linear_model/_sag.py:354: ConvergenceWarning: The max_iter was reached which means the coef_ did not converge\n",
      "  ConvergenceWarning,\n"
     ]
    }
   ],
   "source": [
    "# Report 10 most predictive features \n",
    "feature_names = [\"GC content\", \"Gene length\"] + [codon for codon in CodonDict.keys()] + [\"CAI\"] + \\\n",
    "[amino_acid for amino_acid in AminoAcidDict.keys()] + [\"Strand\", \"Operon position_1\", \"Operon position_2\"]\n",
    "logmodel_opt = LogisticRegression(penalty = searchLog.best_params_['penalty'], \n",
    "                                  C=searchLog.best_params_['C'], solver='saga',\n",
    "                                  max_iter=100, random_state=40).fit(X_train1, y_train1)\n",
    "top_feat = np.argpartition(logmodel_opt.coef_[0], -10)[-10:]\n",
    "top_featnames = [feature_names[i] for i in top_feat]\n",
    "print(\"The top 10 features are {}\".format(\", \".join(top_featnames)))"
   ]
  },
  {
   "cell_type": "code",
   "execution_count": null,
   "metadata": {
    "colab": {
     "base_uri": "https://localhost:8080/"
    },
    "executionInfo": {
     "elapsed": 18,
     "status": "ok",
     "timestamp": 1651986117902,
     "user": {
      "displayName": "Carolin Schulte",
      "userId": "04929166097189432726"
     },
     "user_tz": 240
    },
    "id": "GoZK3Nebdjhd",
    "outputId": "0181c500-8e9e-4e58-bf3f-68be40962ff8"
   },
   "outputs": [
    {
     "data": {
      "text/plain": [
       "{'mean_fit_time': array([ 9.01677961, 11.58332973,  5.66785712, 11.78295436,  2.26678996,\n",
       "        10.99744325,  8.17701807,  8.19165201,  8.20171752,  8.22937636]),\n",
       " 'mean_score_time': array([0.01240406, 0.0119513 , 0.01129971, 0.01183591, 0.01085076,\n",
       "        0.01169586, 0.01105046, 0.0109858 , 0.0115344 , 0.01095901]),\n",
       " 'mean_test_score': array([0.7332421 , 0.73324298, 0.73304339, 0.73324547, 0.71209263,\n",
       "        0.73321868, 0.73324557, 0.73321159, 0.73324555, 0.73324546]),\n",
       " 'param_C': masked_array(data=[1, 10, 0.01, 1000, 0.001, 1, 10000, 0.1, 1000, 100],\n",
       "              mask=[False, False, False, False, False, False, False, False,\n",
       "                    False, False],\n",
       "        fill_value='?',\n",
       "             dtype=object),\n",
       " 'param_penalty': masked_array(data=['l2', 'l1', 'l2', 'l1', 'l1', 'l1', 'l2', 'l2', 'l2',\n",
       "                    'l2'],\n",
       "              mask=[False, False, False, False, False, False, False, False,\n",
       "                    False, False],\n",
       "        fill_value='?',\n",
       "             dtype=object),\n",
       " 'params': [{'C': 1, 'penalty': 'l2'},\n",
       "  {'C': 10, 'penalty': 'l1'},\n",
       "  {'C': 0.01, 'penalty': 'l2'},\n",
       "  {'C': 1000, 'penalty': 'l1'},\n",
       "  {'C': 0.001, 'penalty': 'l1'},\n",
       "  {'C': 1, 'penalty': 'l1'},\n",
       "  {'C': 10000, 'penalty': 'l2'},\n",
       "  {'C': 0.1, 'penalty': 'l2'},\n",
       "  {'C': 1000, 'penalty': 'l2'},\n",
       "  {'C': 100, 'penalty': 'l2'}],\n",
       " 'rank_test_score': array([ 6,  5,  9,  3, 10,  7,  1,  8,  2,  4], dtype=int32),\n",
       " 'split0_test_score': array([0.7250283 , 0.72502825, 0.7247588 , 0.72503219, 0.7032318 ,\n",
       "        0.72499203, 0.72503223, 0.72498377, 0.72503224, 0.7250321 ]),\n",
       " 'split1_test_score': array([0.73292012, 0.73292225, 0.73270901, 0.73292327, 0.7123833 ,\n",
       "        0.73291007, 0.73292352, 0.73289327, 0.73292347, 0.73292334]),\n",
       " 'split2_test_score': array([0.73327485, 0.73327553, 0.73324652, 0.73327585, 0.71464736,\n",
       "        0.73326334, 0.73327596, 0.73327592, 0.73327594, 0.73327592]),\n",
       " 'split3_test_score': array([0.73924136, 0.73924024, 0.73906742, 0.73924405, 0.71611804,\n",
       "        0.7392101 , 0.73924412, 0.73921045, 0.73924408, 0.73924405]),\n",
       " 'split4_test_score': array([0.73574585, 0.73574865, 0.73543517, 0.73575199, 0.71408267,\n",
       "        0.73571786, 0.73575204, 0.73569456, 0.73575204, 0.73575188]),\n",
       " 'std_fit_time': array([0.07116394, 0.13107817, 0.59475821, 0.1397313 , 0.27674496,\n",
       "        0.25830808, 0.04098385, 0.04576094, 0.0787818 , 0.04397227]),\n",
       " 'std_score_time': array([0.00054071, 0.00040433, 0.00030805, 0.00019863, 0.00043544,\n",
       "        0.00049733, 0.00020576, 0.0004964 , 0.00029494, 0.00027255]),\n",
       " 'std_test_score': array([0.00468681, 0.00468682, 0.00470738, 0.00468676, 0.00458889,\n",
       "        0.00468866, 0.00468676, 0.00468944, 0.00468675, 0.00468677])}"
      ]
     },
     "execution_count": 29,
     "metadata": {},
     "output_type": "execute_result"
    }
   ],
   "source": [
    "searchLog.cv_results_"
   ]
  },
  {
   "cell_type": "code",
   "execution_count": null,
   "metadata": {
    "colab": {
     "base_uri": "https://localhost:8080/",
     "height": 559
    },
    "executionInfo": {
     "elapsed": 436,
     "status": "ok",
     "timestamp": 1651986118324,
     "user": {
      "displayName": "Carolin Schulte",
      "userId": "04929166097189432726"
     },
     "user_tz": 240
    },
    "id": "mQeqAdlrHcns",
    "outputId": "268fb5f2-05d3-4bf0-d8ce-97c4769ca5cc"
   },
   "outputs": [
    {
     "data": {
      "text/plain": [
       "<sklearn.metrics._plot.confusion_matrix.ConfusionMatrixDisplay at 0x7fade6a9cd90>"
      ]
     },
     "execution_count": 30,
     "metadata": {},
     "output_type": "execute_result"
    },
    {
     "data": {
      "image/png": "[encoded data removed]",
      "text/plain": [
       "<Figure size 432x288 with 2 Axes>"
      ]
     },
     "metadata": {
      "needs_background": "light"
     },
     "output_type": "display_data"
    },
    {
     "data": {
      "image/png": "[encoded data removed]",
      "text/plain": [
       "<Figure size 432x288 with 2 Axes>"
      ]
     },
     "metadata": {
      "needs_background": "light"
     },
     "output_type": "display_data"
    }
   ],
   "source": [
    "from sklearn.metrics import confusion_matrix\n",
    "from sklearn.metrics import ConfusionMatrixDisplay, r2_score\n",
    "\n",
    "train_prediction =  searchLog.predict(X_train1)\n",
    "test_prediction = searchLog.predict(X_test1)\n",
    "\n",
    "cm_train = confusion_matrix(y_train1, train_prediction)\n",
    "disp = ConfusionMatrixDisplay(confusion_matrix=cm_train)\n",
    "\n",
    "disp.plot()\n",
    "\n",
    "cm_test = confusion_matrix(y_test1, test_prediction)\n",
    "disp = ConfusionMatrixDisplay(confusion_matrix=cm_test)\n",
    "\n",
    "disp.plot()"
   ]
  },
  {
   "cell_type": "markdown",
   "metadata": {
    "id": "8h1jcAYBFpXn"
   },
   "source": [
    "### Random Forest"
   ]
  },
  {
   "cell_type": "code",
   "execution_count": null,
   "metadata": {
    "colab": {
     "base_uri": "https://localhost:8080/"
    },
    "executionInfo": {
     "elapsed": 807481,
     "status": "ok",
     "timestamp": 1651986925798,
     "user": {
      "displayName": "Carolin Schulte",
      "userId": "04929166097189432726"
     },
     "user_tz": 240
    },
    "id": "mxSPOyWlxKOL",
    "outputId": "cec7603a-d4cc-440f-def2-2bc98ccd37c0"
   },
   "outputs": [
    {
     "name": "stdout",
     "output_type": "stream",
     "text": [
      "The training AUC score is 0.838\n",
      "The testing AUC score is 0.806\n"
     ]
    }
   ],
   "source": [
    "from sklearn.ensemble import RandomForestClassifier\n",
    "from sklearn.pipeline import Pipeline\n",
    "\n",
    "# Hyperparameters to be optimized\n",
    "parameters = {'model__n_estimators': [20, 40, 80, 160, 320, 640, 1280], \n",
    "              'model__min_samples_split': [8, 10, 12, 24], \n",
    "              'model__max_depth': [2, 4, 8]}\n",
    "\n",
    "model_rf = RandomForestClassifier()\n",
    "pipeline = Pipeline([('model', model_rf)])\n",
    "searchRF = RandomizedSearchCV(pipeline, parameters, cv=5, scoring='roc_auc', n_iter=5)\n",
    "\n",
    "searchRF.fit(X_train1, y_train1)\n",
    "\n",
    "train_auc = roc_auc_score(y_train1, searchRF.predict_proba(X_train1)[:, 1])\n",
    "test_auc = roc_auc_score(y_test1, searchRF.predict_proba(X_test1)[:, 1])\n",
    "\n",
    "print(\"The training AUC score is {:.3f}\".format(train_auc) )\n",
    "print(\"The testing AUC score is {:.3f}\".format(test_auc) )"
   ]
  },
  {
   "cell_type": "code",
   "execution_count": null,
   "metadata": {
    "colab": {
     "base_uri": "https://localhost:8080/"
    },
    "executionInfo": {
     "elapsed": 17,
     "status": "ok",
     "timestamp": 1651986925799,
     "user": {
      "displayName": "Carolin Schulte",
      "userId": "04929166097189432726"
     },
     "user_tz": 240
    },
    "id": "trg7r8wsdCq2",
    "outputId": "5717640a-40c4-40df-f338-df0b0260c3bd"
   },
   "outputs": [
    {
     "data": {
      "text/plain": [
       "{'mean_fit_time': array([12.06231279, 21.62306385, 23.7418396 , 43.20944958, 47.7280261 ]),\n",
       " 'mean_score_time': array([0.17780204, 0.15521073, 0.35396004, 0.29806709, 0.70146613]),\n",
       " 'mean_test_score': array([0.68934606, 0.80353202, 0.69151878, 0.80391712, 0.69118009]),\n",
       " 'param_model__max_depth': masked_array(data=[2, 8, 2, 8, 2],\n",
       "              mask=[False, False, False, False, False],\n",
       "        fill_value='?',\n",
       "             dtype=object),\n",
       " 'param_model__min_samples_split': masked_array(data=[24, 10, 12, 24, 8],\n",
       "              mask=[False, False, False, False, False],\n",
       "        fill_value='?',\n",
       "             dtype=object),\n",
       " 'param_model__n_estimators': masked_array(data=[160, 80, 320, 160, 640],\n",
       "              mask=[False, False, False, False, False],\n",
       "        fill_value='?',\n",
       "             dtype=object),\n",
       " 'params': [{'model__max_depth': 2,\n",
       "   'model__min_samples_split': 24,\n",
       "   'model__n_estimators': 160},\n",
       "  {'model__max_depth': 8,\n",
       "   'model__min_samples_split': 10,\n",
       "   'model__n_estimators': 80},\n",
       "  {'model__max_depth': 2,\n",
       "   'model__min_samples_split': 12,\n",
       "   'model__n_estimators': 320},\n",
       "  {'model__max_depth': 8,\n",
       "   'model__min_samples_split': 24,\n",
       "   'model__n_estimators': 160},\n",
       "  {'model__max_depth': 2,\n",
       "   'model__min_samples_split': 8,\n",
       "   'model__n_estimators': 640}],\n",
       " 'rank_test_score': array([5, 2, 3, 1, 4], dtype=int32),\n",
       " 'split0_test_score': array([0.68356007, 0.7958137 , 0.68434472, 0.79482285, 0.6822197 ]),\n",
       " 'split1_test_score': array([0.68910526, 0.80008134, 0.6898958 , 0.80152832, 0.69242739]),\n",
       " 'split2_test_score': array([0.69434826, 0.80631854, 0.69667095, 0.80639552, 0.69658883]),\n",
       " 'split3_test_score': array([0.6895977 , 0.80974024, 0.69241533, 0.8117443 , 0.69221279]),\n",
       " 'split4_test_score': array([0.69011901, 0.80570628, 0.6942671 , 0.80509459, 0.69245173]),\n",
       " 'std_fit_time': array([0.12714016, 0.03806551, 0.03119552, 0.06523813, 0.19698604]),\n",
       " 'std_score_time': array([0.00444425, 0.00507467, 0.00803212, 0.00521329, 0.0083    ]),\n",
       " 'std_test_score': array([0.00344147, 0.00495002, 0.00421908, 0.00560724, 0.00477037])}"
      ]
     },
     "execution_count": 32,
     "metadata": {},
     "output_type": "execute_result"
    }
   ],
   "source": [
    "searchRF.cv_results_"
   ]
  },
  {
   "cell_type": "code",
   "execution_count": null,
   "metadata": {
    "colab": {
     "base_uri": "https://localhost:8080/",
     "height": 562
    },
    "executionInfo": {
     "elapsed": 2170,
     "status": "ok",
     "timestamp": 1651986927956,
     "user": {
      "displayName": "Carolin Schulte",
      "userId": "04929166097189432726"
     },
     "user_tz": 240
    },
    "id": "G3XdwmPlxcFa",
    "outputId": "b919be81-b05f-480a-f10a-f0b388661435"
   },
   "outputs": [
    {
     "data": {
      "text/plain": [
       "<sklearn.metrics._plot.confusion_matrix.ConfusionMatrixDisplay at 0x7fade644c210>"
      ]
     },
     "execution_count": 33,
     "metadata": {},
     "output_type": "execute_result"
    },
    {
     "data": {
      "image/png": "[encoded data removed]",
      "text/plain": [
       "<Figure size 432x288 with 2 Axes>"
      ]
     },
     "metadata": {
      "needs_background": "light"
     },
     "output_type": "display_data"
    },
    {
     "data": {
      "image/png": "[encoded data removed]",
      "text/plain": [
       "<Figure size 432x288 with 2 Axes>"
      ]
     },
     "metadata": {
      "needs_background": "light"
     },
     "output_type": "display_data"
    }
   ],
   "source": [
    "train_prediction =  searchRF.predict(X_train1)\n",
    "test_prediction = searchRF.predict(X_test1)\n",
    "\n",
    "cm_train = confusion_matrix(y_train1, train_prediction)\n",
    "disp = ConfusionMatrixDisplay(confusion_matrix=cm_train)\n",
    "\n",
    "disp.plot()\n",
    "\n",
    "cm_test = confusion_matrix(y_test1, test_prediction)\n",
    "disp = ConfusionMatrixDisplay(confusion_matrix=cm_test)\n",
    "\n",
    "disp.plot()"
   ]
  },
  {
   "cell_type": "markdown",
   "metadata": {
    "id": "bPi1ZQuXw-Mo"
   },
   "source": [
    "# MLP"
   ]
  },
  {
   "cell_type": "markdown",
   "metadata": {
    "id": "UPDwiLcnRCxu"
   },
   "source": [
    "### Datasets and DataLoaders"
   ]
  },
  {
   "cell_type": "code",
   "execution_count": null,
   "metadata": {
    "id": "9IAR4Fw6QwfK"
   },
   "outputs": [],
   "source": [
    "# Generate dataset \n",
    "class EssentialDataset(Dataset):\n",
    "    def __init__(self, X, y):\n",
    "        self.X = torch.Tensor(X)  # store X as a pytorch Tensor\n",
    "        self.y = torch.Tensor(y)  # store y as a pytorch Tensor\n",
    "        self.len = len(self.X)  # number of samples in the data \n",
    "\n",
    "    def __getitem__(self, index):\n",
    "        return self.X[index], self.y[index]\n",
    "\n",
    "    def __len__(self):\n",
    "        return self.len"
   ]
  },
  {
   "cell_type": "code",
   "execution_count": null,
   "metadata": {
    "id": "SdUSlUU33A_r"
   },
   "outputs": [],
   "source": [
    "# Define dataset \n",
    "train_data = EssentialDataset(X_train, y_train)\n",
    "val_data = EssentialDataset(X_val, y_val)\n",
    "test_data = EssentialDataset(X_test, y_test)\n",
    "\n",
    "# train/test split \n",
    "batch_size = 128\n",
    "train_dataloader = DataLoader(dataset=train_data, batch_size=batch_size,shuffle=True)\n",
    "val_dataloader = DataLoader(dataset=val_data, batch_size=batch_size,shuffle=True)\n",
    "test_dataloader = DataLoader(dataset=test_data, batch_size=batch_size, shuffle=False)"
   ]
  },
  {
   "cell_type": "code",
   "execution_count": null,
   "metadata": {
    "colab": {
     "base_uri": "https://localhost:8080/"
    },
    "executionInfo": {
     "elapsed": 702,
     "status": "ok",
     "timestamp": 1651986928653,
     "user": {
      "displayName": "Carolin Schulte",
      "userId": "04929166097189432726"
     },
     "user_tz": 240
    },
    "id": "0IuX3Sqt6iRM",
    "outputId": "fe54ca57-9690-483c-891e-d6f0662c66f2"
   },
   "outputs": [
    {
     "name": "stdout",
     "output_type": "stream",
     "text": [
      "torch.Size([128, 90]) torch.Size([128])\n",
      "torch.Size([128, 90]) torch.Size([128])\n",
      "torch.Size([128, 90]) torch.Size([128])\n"
     ]
    }
   ],
   "source": [
    "# check that dataloaders are working properly\n",
    "for loader in [train_dataloader, val_dataloader, test_dataloader]:\n",
    "    for index, batch in enumerate(loader): \n",
    "        # batch returns a X, y stacked in a batch \n",
    "        X_batch, y_batch = batch[0], batch[1]\n",
    "        if index == 0:\n",
    "            print(X_batch.shape, y_batch.shape)"
   ]
  },
  {
   "cell_type": "code",
   "execution_count": null,
   "metadata": {
    "id": "AgIhygx4Gomo"
   },
   "outputs": [],
   "source": [
    "# parameter dictionary\n",
    "params = {\n",
    "    'epoch': 100,\n",
    "    'dropout': 0.5,\n",
    "    'learning_rate': .001\n",
    "}"
   ]
  },
  {
   "cell_type": "markdown",
   "metadata": {
    "id": "9uUGGz28_GiE"
   },
   "source": [
    "### Hyperparameter Optimization"
   ]
  },
  {
   "cell_type": "code",
   "execution_count": null,
   "metadata": {
    "colab": {
     "base_uri": "https://localhost:8080/"
    },
    "executionInfo": {
     "elapsed": 6621,
     "status": "ok",
     "timestamp": 1651986946534,
     "user": {
      "displayName": "Carolin Schulte",
      "userId": "04929166097189432726"
     },
     "user_tz": 240
    },
    "id": "kqJ-azZzGGkv",
    "outputId": "a9580fa0-45ce-47d2-8781-2c7d6e318001"
   },
   "outputs": [
    {
     "name": "stdout",
     "output_type": "stream",
     "text": [
      "Collecting optuna\n",
      "  Downloading optuna-2.10.0-py3-none-any.whl (308 kB)\n",
      "\u001b[?25l\r",
      "\u001b[K     |█                               | 10 kB 27.4 MB/s eta 0:00:01\r",
      "\u001b[K     |██▏                             | 20 kB 9.9 MB/s eta 0:00:01\r",
      "\u001b[K     |███▏                            | 30 kB 8.6 MB/s eta 0:00:01\r",
      "\u001b[K     |████▎                           | 40 kB 8.2 MB/s eta 0:00:01\r",
      "\u001b[K     |█████▎                          | 51 kB 4.5 MB/s eta 0:00:01\r",
      "\u001b[K     |██████▍                         | 61 kB 5.4 MB/s eta 0:00:01\r",
      "\u001b[K     |███████▍                        | 71 kB 5.4 MB/s eta 0:00:01\r",
      "\u001b[K     |████████▌                       | 81 kB 4.2 MB/s eta 0:00:01\r",
      "\u001b[K     |█████████▋                      | 92 kB 4.6 MB/s eta 0:00:01\r",
      "\u001b[K     |██████████▋                     | 102 kB 5.1 MB/s eta 0:00:01\r",
      "\u001b[K     |███████████▊                    | 112 kB 5.1 MB/s eta 0:00:01\r",
      "\u001b[K     |████████████▊                   | 122 kB 5.1 MB/s eta 0:00:01\r",
      "\u001b[K     |█████████████▉                  | 133 kB 5.1 MB/s eta 0:00:01\r",
      "\u001b[K     |██████████████▉                 | 143 kB 5.1 MB/s eta 0:00:01\r",
      "\u001b[K     |████████████████                | 153 kB 5.1 MB/s eta 0:00:01\r",
      "\u001b[K     |█████████████████               | 163 kB 5.1 MB/s eta 0:00:01\r",
      "\u001b[K     |██████████████████              | 174 kB 5.1 MB/s eta 0:00:01\r",
      "\u001b[K     |███████████████████▏            | 184 kB 5.1 MB/s eta 0:00:01\r",
      "\u001b[K     |████████████████████▏           | 194 kB 5.1 MB/s eta 0:00:01\r",
      "\u001b[K     |█████████████████████▎          | 204 kB 5.1 MB/s eta 0:00:01\r",
      "\u001b[K     |██████████████████████▎         | 215 kB 5.1 MB/s eta 0:00:01\r",
      "\u001b[K     |███████████████████████▍        | 225 kB 5.1 MB/s eta 0:00:01\r",
      "\u001b[K     |████████████████████████▌       | 235 kB 5.1 MB/s eta 0:00:01\r",
      "\u001b[K     |█████████████████████████▌      | 245 kB 5.1 MB/s eta 0:00:01\r",
      "\u001b[K     |██████████████████████████▋     | 256 kB 5.1 MB/s eta 0:00:01\r",
      "\u001b[K     |███████████████████████████▋    | 266 kB 5.1 MB/s eta 0:00:01\r",
      "\u001b[K     |████████████████████████████▊   | 276 kB 5.1 MB/s eta 0:00:01\r",
      "\u001b[K     |█████████████████████████████▊  | 286 kB 5.1 MB/s eta 0:00:01\r",
      "\u001b[K     |██████████████████████████████▉ | 296 kB 5.1 MB/s eta 0:00:01\r",
      "\u001b[K     |████████████████████████████████| 307 kB 5.1 MB/s eta 0:00:01\r",
      "\u001b[K     |████████████████████████████████| 308 kB 5.1 MB/s \n",
      "\u001b[?25hRequirement already satisfied: scipy!=1.4.0 in /usr/local/lib/python3.7/dist-packages (from optuna) (1.4.1)\n",
      "Requirement already satisfied: tqdm in /usr/local/lib/python3.7/dist-packages (from optuna) (4.64.0)\n",
      "Requirement already satisfied: numpy in /usr/local/lib/python3.7/dist-packages (from optuna) (1.21.6)\n",
      "Collecting colorlog\n",
      "  Downloading colorlog-6.6.0-py2.py3-none-any.whl (11 kB)\n",
      "Collecting cmaes>=0.8.2\n",
      "  Downloading cmaes-0.8.2-py3-none-any.whl (15 kB)\n",
      "Requirement already satisfied: PyYAML in /usr/local/lib/python3.7/dist-packages (from optuna) (3.13)\n",
      "Collecting alembic\n",
      "  Downloading alembic-1.7.7-py3-none-any.whl (210 kB)\n",
      "\u001b[K     |████████████████████████████████| 210 kB 56.1 MB/s \n",
      "\u001b[?25hRequirement already satisfied: sqlalchemy>=1.1.0 in /usr/local/lib/python3.7/dist-packages (from optuna) (1.4.36)\n",
      "Requirement already satisfied: packaging>=20.0 in /usr/local/lib/python3.7/dist-packages (from optuna) (21.3)\n",
      "Collecting cliff\n",
      "  Downloading cliff-3.10.1-py3-none-any.whl (81 kB)\n",
      "\u001b[K     |████████████████████████████████| 81 kB 9.0 MB/s \n",
      "\u001b[?25hRequirement already satisfied: pyparsing!=3.0.5,>=2.0.2 in /usr/local/lib/python3.7/dist-packages (from packaging>=20.0->optuna) (3.0.8)\n",
      "Requirement already satisfied: importlib-metadata in /usr/local/lib/python3.7/dist-packages (from sqlalchemy>=1.1.0->optuna) (4.11.3)\n",
      "Requirement already satisfied: greenlet!=0.4.17 in /usr/local/lib/python3.7/dist-packages (from sqlalchemy>=1.1.0->optuna) (1.1.2)\n",
      "Requirement already satisfied: importlib-resources in /usr/local/lib/python3.7/dist-packages (from alembic->optuna) (5.7.1)\n",
      "Collecting Mako\n",
      "  Downloading Mako-1.2.0-py3-none-any.whl (78 kB)\n",
      "\u001b[K     |████████████████████████████████| 78 kB 7.3 MB/s \n",
      "\u001b[?25hCollecting cmd2>=1.0.0\n",
      "  Downloading cmd2-2.4.1-py3-none-any.whl (146 kB)\n",
      "\u001b[K     |████████████████████████████████| 146 kB 68.1 MB/s \n",
      "\u001b[?25hCollecting stevedore>=2.0.1\n",
      "  Downloading stevedore-3.5.0-py3-none-any.whl (49 kB)\n",
      "\u001b[K     |████████████████████████████████| 49 kB 6.3 MB/s \n",
      "\u001b[?25hCollecting autopage>=0.4.0\n",
      "  Downloading autopage-0.5.0-py3-none-any.whl (29 kB)\n",
      "Collecting pbr!=2.1.0,>=2.0.0\n",
      "  Downloading pbr-5.9.0-py2.py3-none-any.whl (112 kB)\n",
      "\u001b[K     |████████████████████████████████| 112 kB 59.9 MB/s \n",
      "\u001b[?25hRequirement already satisfied: PrettyTable>=0.7.2 in /usr/local/lib/python3.7/dist-packages (from cliff->optuna) (3.2.0)\n",
      "Requirement already satisfied: wcwidth>=0.1.7 in /usr/local/lib/python3.7/dist-packages (from cmd2>=1.0.0->cliff->optuna) (0.2.5)\n",
      "Collecting pyperclip>=1.6\n",
      "  Downloading pyperclip-1.8.2.tar.gz (20 kB)\n",
      "Requirement already satisfied: attrs>=16.3.0 in /usr/local/lib/python3.7/dist-packages (from cmd2>=1.0.0->cliff->optuna) (21.4.0)\n",
      "Requirement already satisfied: typing-extensions in /usr/local/lib/python3.7/dist-packages (from cmd2>=1.0.0->cliff->optuna) (4.2.0)\n",
      "Requirement already satisfied: zipp>=0.5 in /usr/local/lib/python3.7/dist-packages (from importlib-metadata->sqlalchemy>=1.1.0->optuna) (3.8.0)\n",
      "Requirement already satisfied: MarkupSafe>=0.9.2 in /usr/local/lib/python3.7/dist-packages (from Mako->alembic->optuna) (2.0.1)\n",
      "Building wheels for collected packages: pyperclip\n",
      "  Building wheel for pyperclip (setup.py) ... \u001b[?25l\u001b[?25hdone\n",
      "  Created wheel for pyperclip: filename=pyperclip-1.8.2-py3-none-any.whl size=11137 sha256=c587ed00eb1647d42eb119dd63c01827b47221ddc9a439e8a958ff3e60c82fec\n",
      "  Stored in directory: /root/.cache/pip/wheels/9f/18/84/8f69f8b08169c7bae2dde6bd7daf0c19fca8c8e500ee620a28\n",
      "Successfully built pyperclip\n",
      "Installing collected packages: pyperclip, pbr, stevedore, Mako, cmd2, autopage, colorlog, cmaes, cliff, alembic, optuna\n",
      "Successfully installed Mako-1.2.0 alembic-1.7.7 autopage-0.5.0 cliff-3.10.1 cmaes-0.8.2 cmd2-2.4.1 colorlog-6.6.0 optuna-2.10.0 pbr-5.9.0 pyperclip-1.8.2 stevedore-3.5.0\n"
     ]
    }
   ],
   "source": [
    "% pip install optuna"
   ]
  },
  {
   "cell_type": "code",
   "execution_count": null,
   "metadata": {
    "id": "ybdXOwmgDKHJ"
   },
   "outputs": [],
   "source": [
    "import optuna\n",
    "from optuna.trial import TrialState\n",
    "import torch.optim as optim"
   ]
  },
  {
   "cell_type": "code",
   "execution_count": null,
   "metadata": {
    "id": "NfelW1ReQwUt"
   },
   "outputs": [],
   "source": [
    "DEVICE = 'cuda:0'\n",
    "BATCHSIZE = 128\n",
    "CLASSES = 1\n",
    "EPOCHS = 100\n",
    "INPUT_NODES = 90"
   ]
  },
  {
   "cell_type": "code",
   "execution_count": null,
   "metadata": {
    "id": "o95zTD8wDoss"
   },
   "outputs": [],
   "source": [
    "def define_model(trial):\n",
    "    # We optimize the number of layers, hidden units and dropout ratio in each layer.\n",
    "    n_layers = trial.suggest_int(\"n_layers\", 2, 8)\n",
    "    layers = []\n",
    "\n",
    "    in_features = INPUT_NODES\n",
    "    for i in range(n_layers):\n",
    "        out_features = trial.suggest_categorical(\"n_nodes{}\".format(i), [16,32,64,128,512,1024,2048])\n",
    "        layers.append(nn.Linear(in_features, out_features))\n",
    "        layers.append(nn.ReLU())\n",
    "        p = trial.suggest_float(\"dropout_p{}\".format(i), 0.0, 0.5, step=0.1)\n",
    "        layers.append(nn.Dropout(p))\n",
    "        in_features = out_features\n",
    "\n",
    "    layers.append(nn.Linear(in_features, CLASSES))\n",
    "\n",
    "    return nn.Sequential(*layers)"
   ]
  },
  {
   "cell_type": "code",
   "execution_count": null,
   "metadata": {
    "id": "GA5g_VhuKEPL"
   },
   "outputs": [],
   "source": [
    "def objective(trial):\n",
    "\n",
    "    # Generate the model.\n",
    "    model = define_model(trial).to(DEVICE)\n",
    "\n",
    "    # Generate the optimizers.\n",
    "    optimizer_name = trial.suggest_categorical(\"optimizer\", [\"Adam\", \"RMSprop\", \"SGD\"])\n",
    "    lr = trial.suggest_float(\"lr\", 1e-5, 1e-2, log=True)\n",
    "    optimizer = getattr(optim, optimizer_name)(model.parameters(), lr=lr)\n",
    "\n",
    "    for epoch in range(EPOCHS):\n",
    "        # Training of the model.\n",
    "        model.train()\n",
    "        for (X, y) in train_dataloader:\n",
    "            X, y = X.to(DEVICE), y.to(DEVICE)\n",
    "\n",
    "        # train your model on each batch here \n",
    "        y_pred = model(X)\n",
    "        y = y.unsqueeze(1)\n",
    "        loss = torch.nn.BCEWithLogitsLoss()(y_pred, y)\n",
    "        \n",
    "        # run backpropagation \n",
    "        optimizer.zero_grad()\n",
    "        loss.backward()\n",
    "        optimizer.step()\n",
    "\n",
    "        # Validation of the model.\n",
    "        model.eval()\n",
    "        correct = 0\n",
    "        with torch.no_grad():\n",
    "          for batch in val_dataloader:    \n",
    "              X, y = batch\n",
    "              X = X.to(device)\n",
    "              y = y.to(device)\n",
    "              y = y.unsqueeze(1)\n",
    "              \n",
    "              # train your model on each batch here \n",
    "              y_pred = model(X)\n",
    "              loss = torch.nn.BCEWithLogitsLoss()(y_pred, y)\n",
    "\n",
    "              y_pred = torch.sigmoid(y_pred)\n",
    "              y_pred_tag = torch.round(y_pred)\n",
    "              correct += y_pred_tag.eq(y.view_as(y_pred_tag)).sum().item()  \n",
    "\n",
    "        #accuracy = correct / len(val_dataloader.dataset)\n",
    "        #trial.report(accuracy, epoch)\n",
    "        auc = roc_auc_score(y.cpu().detach().numpy(), y_pred.cpu().detach().numpy())\n",
    "        trial.report(auc, epoch)\n",
    "\n",
    "        # Handle pruning based on the intermediate value.\n",
    "        if trial.should_prune():\n",
    "            raise optuna.exceptions.TrialPruned()\n",
    "\n",
    "    #return accuracy\n",
    "    return auc\n"
   ]
  },
  {
   "cell_type": "markdown",
   "metadata": {
    "id": "25qHF6fod1fm"
   },
   "source": [
    "Run code below to start hyperparameter tuning"
   ]
  },
  {
   "cell_type": "code",
   "execution_count": null,
   "metadata": {
    "colab": {
     "base_uri": "https://localhost:8080/"
    },
    "executionInfo": {
     "elapsed": 1480106,
     "status": "ok",
     "timestamp": 1651988427484,
     "user": {
      "displayName": "Carolin Schulte",
      "userId": "04929166097189432726"
     },
     "user_tz": 240
    },
    "id": "AVElqFhQEGTO",
    "outputId": "7ffee76e-6444-43f5-e134-290a74b9792a"
   },
   "outputs": [
    {
     "name": "stderr",
     "output_type": "stream",
     "text": [
      "\u001b[32m[I 2022-05-08 05:15:47,158]\u001b[0m A new study created in memory with name: no-name-86573a61-3e45-4135-94e3-89da0e7d65b8\u001b[0m\n",
      "\u001b[32m[I 2022-05-08 05:16:54,226]\u001b[0m Trial 0 finished with value: 0.47814207650273227 and parameters: {'n_layers': 5, 'n_nodes0': 16, 'dropout_p0': 0.5, 'n_nodes1': 32, 'dropout_p1': 0.0, 'n_nodes2': 16, 'dropout_p2': 0.0, 'n_nodes3': 128, 'dropout_p3': 0.1, 'n_nodes4': 128, 'dropout_p4': 0.2, 'optimizer': 'SGD', 'lr': 0.00020934101174421632}. Best is trial 0 with value: 0.47814207650273227.\u001b[0m\n",
      "\u001b[32m[I 2022-05-08 05:17:57,512]\u001b[0m Trial 1 finished with value: 0.5823244552058111 and parameters: {'n_layers': 7, 'n_nodes0': 512, 'dropout_p0': 0.0, 'n_nodes1': 128, 'dropout_p1': 0.30000000000000004, 'n_nodes2': 2048, 'dropout_p2': 0.30000000000000004, 'n_nodes3': 1024, 'dropout_p3': 0.2, 'n_nodes4': 16, 'dropout_p4': 0.4, 'n_nodes5': 1024, 'dropout_p5': 0.4, 'n_nodes6': 16, 'dropout_p6': 0.0, 'optimizer': 'RMSprop', 'lr': 0.00028385142140252047}. Best is trial 1 with value: 0.5823244552058111.\u001b[0m\n",
      "\u001b[32m[I 2022-05-08 05:19:00,951]\u001b[0m Trial 2 finished with value: 0.5561974789915967 and parameters: {'n_layers': 8, 'n_nodes0': 512, 'dropout_p0': 0.1, 'n_nodes1': 1024, 'dropout_p1': 0.0, 'n_nodes2': 1024, 'dropout_p2': 0.2, 'n_nodes3': 512, 'dropout_p3': 0.1, 'n_nodes4': 512, 'dropout_p4': 0.0, 'n_nodes5': 2048, 'dropout_p5': 0.0, 'n_nodes6': 128, 'dropout_p6': 0.30000000000000004, 'n_nodes7': 128, 'dropout_p7': 0.1, 'optimizer': 'SGD', 'lr': 0.002500344395315968}. Best is trial 1 with value: 0.5823244552058111.\u001b[0m\n",
      "\u001b[32m[I 2022-05-08 05:20:02,348]\u001b[0m Trial 3 finished with value: 0.7373913043478261 and parameters: {'n_layers': 3, 'n_nodes0': 128, 'dropout_p0': 0.5, 'n_nodes1': 2048, 'dropout_p1': 0.1, 'n_nodes2': 2048, 'dropout_p2': 0.4, 'optimizer': 'Adam', 'lr': 0.0001863978057706175}. Best is trial 3 with value: 0.7373913043478261.\u001b[0m\n",
      "\u001b[32m[I 2022-05-08 05:21:05,509]\u001b[0m Trial 4 finished with value: 0.51 and parameters: {'n_layers': 7, 'n_nodes0': 1024, 'dropout_p0': 0.0, 'n_nodes1': 64, 'dropout_p1': 0.4, 'n_nodes2': 512, 'dropout_p2': 0.30000000000000004, 'n_nodes3': 32, 'dropout_p3': 0.0, 'n_nodes4': 1024, 'dropout_p4': 0.4, 'n_nodes5': 1024, 'dropout_p5': 0.2, 'n_nodes6': 16, 'dropout_p6': 0.2, 'optimizer': 'RMSprop', 'lr': 3.3102407600456096e-05}. Best is trial 3 with value: 0.7373913043478261.\u001b[0m\n",
      "\u001b[32m[I 2022-05-08 05:22:08,571]\u001b[0m Trial 5 finished with value: 0.5704099821746881 and parameters: {'n_layers': 6, 'n_nodes0': 128, 'dropout_p0': 0.5, 'n_nodes1': 64, 'dropout_p1': 0.1, 'n_nodes2': 512, 'dropout_p2': 0.5, 'n_nodes3': 1024, 'dropout_p3': 0.30000000000000004, 'n_nodes4': 64, 'dropout_p4': 0.1, 'n_nodes5': 2048, 'dropout_p5': 0.0, 'optimizer': 'SGD', 'lr': 0.0063796158809236135}. Best is trial 3 with value: 0.7373913043478261.\u001b[0m\n",
      "\u001b[32m[I 2022-05-08 05:23:13,961]\u001b[0m Trial 6 finished with value: 0.5595238095238095 and parameters: {'n_layers': 7, 'n_nodes0': 64, 'dropout_p0': 0.5, 'n_nodes1': 512, 'dropout_p1': 0.0, 'n_nodes2': 2048, 'dropout_p2': 0.2, 'n_nodes3': 16, 'dropout_p3': 0.5, 'n_nodes4': 512, 'dropout_p4': 0.2, 'n_nodes5': 512, 'dropout_p5': 0.1, 'n_nodes6': 1024, 'dropout_p6': 0.1, 'optimizer': 'SGD', 'lr': 0.007611424616830427}. Best is trial 3 with value: 0.7373913043478261.\u001b[0m\n",
      "\u001b[32m[I 2022-05-08 05:23:14,645]\u001b[0m Trial 7 pruned. \u001b[0m\n",
      "\u001b[32m[I 2022-05-08 05:24:18,603]\u001b[0m Trial 8 finished with value: 0.6378299120234604 and parameters: {'n_layers': 6, 'n_nodes0': 32, 'dropout_p0': 0.0, 'n_nodes1': 64, 'dropout_p1': 0.0, 'n_nodes2': 1024, 'dropout_p2': 0.30000000000000004, 'n_nodes3': 32, 'dropout_p3': 0.4, 'n_nodes4': 64, 'dropout_p4': 0.5, 'n_nodes5': 64, 'dropout_p5': 0.1, 'optimizer': 'RMSprop', 'lr': 0.0006262578833954096}. Best is trial 3 with value: 0.7373913043478261.\u001b[0m\n",
      "\u001b[32m[I 2022-05-08 05:24:23,600]\u001b[0m Trial 9 pruned. \u001b[0m\n",
      "\u001b[32m[I 2022-05-08 05:25:25,257]\u001b[0m Trial 10 finished with value: 0.7373737373737373 and parameters: {'n_layers': 2, 'n_nodes0': 2048, 'dropout_p0': 0.4, 'n_nodes1': 2048, 'dropout_p1': 0.2, 'optimizer': 'Adam', 'lr': 7.014382732975712e-05}. Best is trial 3 with value: 0.7373913043478261.\u001b[0m\n",
      "\u001b[32m[I 2022-05-08 05:26:26,824]\u001b[0m Trial 11 finished with value: 0.5241228070175439 and parameters: {'n_layers': 2, 'n_nodes0': 2048, 'dropout_p0': 0.4, 'n_nodes1': 2048, 'dropout_p1': 0.2, 'optimizer': 'Adam', 'lr': 1.3414143648253783e-05}. Best is trial 3 with value: 0.7373913043478261.\u001b[0m\n",
      "\u001b[32m[I 2022-05-08 05:26:28,100]\u001b[0m Trial 12 pruned. \u001b[0m\n",
      "\u001b[32m[I 2022-05-08 05:26:29,345]\u001b[0m Trial 13 pruned. \u001b[0m\n",
      "\u001b[32m[I 2022-05-08 05:27:31,670]\u001b[0m Trial 14 finished with value: 0.8453947368421053 and parameters: {'n_layers': 3, 'n_nodes0': 2048, 'dropout_p0': 0.30000000000000004, 'n_nodes1': 2048, 'dropout_p1': 0.1, 'n_nodes2': 2048, 'dropout_p2': 0.4, 'optimizer': 'Adam', 'lr': 0.0008707809239288146}. Best is trial 14 with value: 0.8453947368421053.\u001b[0m\n",
      "\u001b[32m[I 2022-05-08 05:28:34,867]\u001b[0m Trial 15 finished with value: 0.7636554621848739 and parameters: {'n_layers': 4, 'n_nodes0': 64, 'dropout_p0': 0.30000000000000004, 'n_nodes1': 16, 'dropout_p1': 0.1, 'n_nodes2': 2048, 'dropout_p2': 0.4, 'n_nodes3': 64, 'dropout_p3': 0.5, 'optimizer': 'Adam', 'lr': 0.0008778728960161274}. Best is trial 14 with value: 0.8453947368421053.\u001b[0m\n",
      "\u001b[32m[I 2022-05-08 05:29:37,539]\u001b[0m Trial 16 finished with value: 0.712121212121212 and parameters: {'n_layers': 4, 'n_nodes0': 64, 'dropout_p0': 0.30000000000000004, 'n_nodes1': 16, 'dropout_p1': 0.1, 'n_nodes2': 2048, 'dropout_p2': 0.4, 'n_nodes3': 64, 'dropout_p3': 0.5, 'optimizer': 'Adam', 'lr': 0.0009028391600956699}. Best is trial 14 with value: 0.8453947368421053.\u001b[0m\n",
      "\u001b[32m[I 2022-05-08 05:30:40,202]\u001b[0m Trial 17 finished with value: 0.767948717948718 and parameters: {'n_layers': 4, 'n_nodes0': 64, 'dropout_p0': 0.30000000000000004, 'n_nodes1': 16, 'dropout_p1': 0.30000000000000004, 'n_nodes2': 2048, 'dropout_p2': 0.4, 'n_nodes3': 64, 'dropout_p3': 0.4, 'optimizer': 'Adam', 'lr': 0.001401405833993669}. Best is trial 14 with value: 0.8453947368421053.\u001b[0m\n",
      "\u001b[32m[I 2022-05-08 05:31:42,247]\u001b[0m Trial 18 finished with value: 0.6458333333333334 and parameters: {'n_layers': 3, 'n_nodes0': 32, 'dropout_p0': 0.30000000000000004, 'n_nodes1': 16, 'dropout_p1': 0.30000000000000004, 'n_nodes2': 32, 'dropout_p2': 0.5, 'optimizer': 'Adam', 'lr': 0.002048788468034243}. Best is trial 14 with value: 0.8453947368421053.\u001b[0m\n",
      "\u001b[32m[I 2022-05-08 05:31:42,910]\u001b[0m Trial 19 pruned. \u001b[0m\n",
      "\u001b[32m[I 2022-05-08 05:31:44,190]\u001b[0m Trial 20 pruned. \u001b[0m\n",
      "\u001b[32m[I 2022-05-08 05:31:44,840]\u001b[0m Trial 21 pruned. \u001b[0m\n",
      "\u001b[32m[I 2022-05-08 05:32:47,264]\u001b[0m Trial 22 finished with value: 0.7045977011494253 and parameters: {'n_layers': 3, 'n_nodes0': 64, 'dropout_p0': 0.30000000000000004, 'n_nodes1': 16, 'dropout_p1': 0.1, 'n_nodes2': 2048, 'dropout_p2': 0.30000000000000004, 'optimizer': 'Adam', 'lr': 0.001443321022686206}. Best is trial 14 with value: 0.8453947368421053.\u001b[0m\n",
      "\u001b[32m[I 2022-05-08 05:32:52,443]\u001b[0m Trial 23 pruned. \u001b[0m\n",
      "\u001b[32m[I 2022-05-08 05:33:55,666]\u001b[0m Trial 24 finished with value: 0.6701680672268907 and parameters: {'n_layers': 4, 'n_nodes0': 64, 'dropout_p0': 0.2, 'n_nodes1': 128, 'dropout_p1': 0.2, 'n_nodes2': 64, 'dropout_p2': 0.4, 'n_nodes3': 64, 'dropout_p3': 0.5, 'optimizer': 'Adam', 'lr': 0.0006134207561296117}. Best is trial 14 with value: 0.8453947368421053.\u001b[0m\n",
      "\u001b[32m[I 2022-05-08 05:33:56,307]\u001b[0m Trial 25 pruned. \u001b[0m\n",
      "\u001b[32m[I 2022-05-08 05:33:56,960]\u001b[0m Trial 26 pruned. \u001b[0m\n",
      "\u001b[32m[I 2022-05-08 05:33:57,643]\u001b[0m Trial 27 pruned. \u001b[0m\n",
      "\u001b[32m[I 2022-05-08 05:35:01,181]\u001b[0m Trial 28 finished with value: 0.5188679245283019 and parameters: {'n_layers': 5, 'n_nodes0': 16, 'dropout_p0': 0.2, 'n_nodes1': 128, 'dropout_p1': 0.30000000000000004, 'n_nodes2': 2048, 'dropout_p2': 0.4, 'n_nodes3': 64, 'dropout_p3': 0.2, 'n_nodes4': 32, 'dropout_p4': 0.1, 'optimizer': 'Adam', 'lr': 0.0017012258031550201}. Best is trial 14 with value: 0.8453947368421053.\u001b[0m\n",
      "\u001b[32m[I 2022-05-08 05:35:01,815]\u001b[0m Trial 29 pruned. \u001b[0m\n",
      "\u001b[32m[I 2022-05-08 05:35:02,457]\u001b[0m Trial 30 pruned. \u001b[0m\n",
      "\u001b[32m[I 2022-05-08 05:35:03,137]\u001b[0m Trial 31 pruned. \u001b[0m\n",
      "\u001b[32m[I 2022-05-08 05:35:03,782]\u001b[0m Trial 32 pruned. \u001b[0m\n",
      "\u001b[32m[I 2022-05-08 05:35:04,475]\u001b[0m Trial 33 pruned. \u001b[0m\n",
      "\u001b[32m[I 2022-05-08 05:35:05,150]\u001b[0m Trial 34 pruned. \u001b[0m\n",
      "\u001b[32m[I 2022-05-08 05:35:05,800]\u001b[0m Trial 35 pruned. \u001b[0m\n",
      "\u001b[32m[I 2022-05-08 05:35:06,459]\u001b[0m Trial 36 pruned. \u001b[0m\n",
      "\u001b[32m[I 2022-05-08 05:36:09,356]\u001b[0m Trial 37 finished with value: 0.677721088435374 and parameters: {'n_layers': 2, 'n_nodes0': 64, 'dropout_p0': 0.5, 'n_nodes1': 128, 'dropout_p1': 0.30000000000000004, 'optimizer': 'Adam', 'lr': 0.002264555115130541}. Best is trial 14 with value: 0.8453947368421053.\u001b[0m\n",
      "\u001b[32m[I 2022-05-08 05:37:11,485]\u001b[0m Trial 38 finished with value: 0.6539682539682541 and parameters: {'n_layers': 3, 'n_nodes0': 2048, 'dropout_p0': 0.4, 'n_nodes1': 2048, 'dropout_p1': 0.1, 'n_nodes2': 1024, 'dropout_p2': 0.5, 'optimizer': 'SGD', 'lr': 0.0011587194513419604}. Best is trial 14 with value: 0.8453947368421053.\u001b[0m\n",
      "\u001b[32m[I 2022-05-08 05:37:12,167]\u001b[0m Trial 39 pruned. \u001b[0m\n",
      "\u001b[32m[I 2022-05-08 05:37:12,838]\u001b[0m Trial 40 pruned. \u001b[0m\n",
      "\u001b[32m[I 2022-05-08 05:37:13,503]\u001b[0m Trial 41 pruned. \u001b[0m\n",
      "\u001b[32m[I 2022-05-08 05:37:14,189]\u001b[0m Trial 42 pruned. \u001b[0m\n",
      "\u001b[32m[I 2022-05-08 05:38:15,981]\u001b[0m Trial 43 finished with value: 0.706043956043956 and parameters: {'n_layers': 2, 'n_nodes0': 2048, 'dropout_p0': 0.30000000000000004, 'n_nodes1': 2048, 'dropout_p1': 0.2, 'optimizer': 'Adam', 'lr': 4.942633895215783e-05}. Best is trial 14 with value: 0.8453947368421053.\u001b[0m\n",
      "\u001b[32m[I 2022-05-08 05:38:16,661]\u001b[0m Trial 44 pruned. \u001b[0m\n",
      "\u001b[32m[I 2022-05-08 05:38:17,301]\u001b[0m Trial 45 pruned. \u001b[0m\n",
      "\u001b[32m[I 2022-05-08 05:39:19,648]\u001b[0m Trial 46 finished with value: 0.7794117647058824 and parameters: {'n_layers': 3, 'n_nodes0': 64, 'dropout_p0': 0.30000000000000004, 'n_nodes1': 512, 'dropout_p1': 0.1, 'n_nodes2': 512, 'dropout_p2': 0.5, 'optimizer': 'Adam', 'lr': 0.0008051996965354402}. Best is trial 14 with value: 0.8453947368421053.\u001b[0m\n",
      "\u001b[32m[I 2022-05-08 05:39:20,299]\u001b[0m Trial 47 pruned. \u001b[0m\n",
      "\u001b[32m[I 2022-05-08 05:40:26,504]\u001b[0m Trial 48 finished with value: 0.7457983193277311 and parameters: {'n_layers': 8, 'n_nodes0': 64, 'dropout_p0': 0.2, 'n_nodes1': 512, 'dropout_p1': 0.1, 'n_nodes2': 512, 'dropout_p2': 0.5, 'n_nodes3': 128, 'dropout_p3': 0.30000000000000004, 'n_nodes4': 512, 'dropout_p4': 0.1, 'n_nodes5': 16, 'dropout_p5': 0.30000000000000004, 'n_nodes6': 64, 'dropout_p6': 0.5, 'n_nodes7': 1024, 'dropout_p7': 0.5, 'optimizer': 'Adam', 'lr': 0.0007797257108863732}. Best is trial 14 with value: 0.8453947368421053.\u001b[0m\n",
      "\u001b[32m[I 2022-05-08 05:40:27,220]\u001b[0m Trial 49 pruned. \u001b[0m\n"
     ]
    },
    {
     "name": "stdout",
     "output_type": "stream",
     "text": [
      "Study statistics: \n",
      "  Number of finished trials:  50\n",
      "  Number of pruned trials:  27\n",
      "  Number of complete trials:  23\n",
      "Best trial:\n",
      "  Value:  0.8453947368421053\n",
      "  Params: \n",
      "    n_layers: 3\n",
      "    n_nodes0: 2048\n",
      "    dropout_p0: 0.30000000000000004\n",
      "    n_nodes1: 2048\n",
      "    dropout_p1: 0.1\n",
      "    n_nodes2: 2048\n",
      "    dropout_p2: 0.4\n",
      "    optimizer: Adam\n",
      "    lr: 0.0008707809239288146\n"
     ]
    },
    {
     "name": "stderr",
     "output_type": "stream",
     "text": [
      "/usr/local/lib/python3.7/dist-packages/optuna/structs.py:18: FutureWarning: `structs` is deprecated. Classes have moved to the following modules. `structs.StudyDirection`->`study.StudyDirection`, `structs.StudySummary`->`study.StudySummary`, `structs.FrozenTrial`->`trial.FrozenTrial`, `structs.TrialState`->`trial.TrialState`, `structs.TrialPruned`->`exceptions.TrialPruned`.\n",
      "  warnings.warn(_message, FutureWarning)\n"
     ]
    }
   ],
   "source": [
    "if __name__ == \"__main__\":\n",
    "    study = optuna.create_study(direction=\"maximize\")\n",
    "    study.optimize(objective, n_trials=50)\n",
    "\n",
    "    pruned_trials = [t for t in study.trials if t.state == optuna.structs.TrialState.PRUNED]\n",
    "    complete_trials = [t for t in study.trials if t.state == optuna.structs.TrialState.COMPLETE]\n",
    "\n",
    "    print(\"Study statistics: \")\n",
    "    print(\"  Number of finished trials: \", len(study.trials))\n",
    "    print(\"  Number of pruned trials: \", len(pruned_trials))\n",
    "    print(\"  Number of complete trials: \", len(complete_trials))\n",
    "\n",
    "    print(\"Best trial:\")\n",
    "    trial = study.best_trial\n",
    "\n",
    "    print(\"  Value: \", trial.value)\n",
    "\n",
    "    print(\"  Params: \")\n",
    "    for key, value in trial.params.items():\n",
    "        print(\"    {}: {}\".format(key, value))"
   ]
  },
  {
   "cell_type": "markdown",
   "metadata": {
    "id": "WSrkbPqZ4WX1"
   },
   "source": [
    "## Run MLP with best parameters"
   ]
  },
  {
   "cell_type": "markdown",
   "metadata": {
    "id": "MmDYxYNRCirr"
   },
   "source": [
    "### Model Architecture"
   ]
  },
  {
   "cell_type": "code",
   "execution_count": null,
   "metadata": {
    "id": "1wRQmGCnIB6p"
   },
   "outputs": [],
   "source": [
    "class EssentialMLP_opt(torch.nn.Module):\n",
    "    def __init__(self):\n",
    "        super().__init__()\n",
    "        \n",
    "        self.layer1 = torch.nn.Linear(90, study.best_params['n_nodes0'])\n",
    "        self.layer2 = torch.nn.Linear(study.best_params['n_nodes0'], study.best_params['n_nodes1'])\n",
    "        self.layer3 = torch.nn.Linear(study.best_params['n_nodes1'], study.best_params['n_nodes2'])\n",
    "        self.layer4 = torch.nn.Linear(study.best_params['n_nodes2'], 1)\n",
    "        self.relu = torch.nn.ReLU()\n",
    "        # self.sigmoid = torch.nn.Sigmoid()\n",
    "        #self.dropout = torch.nn.Dropout(p=params[\"dropout\"])\n",
    "\n",
    "        self.mlp = torch.nn.Sequential(  self.layer1, self.relu, torch.nn.Dropout(p=study.best_params['dropout_p0']),\n",
    "                                         self.layer2, self.relu, torch.nn.Dropout(p=study.best_params['dropout_p1']),\n",
    "                                         self.layer3, self.relu, torch.nn.Dropout(p=study.best_params['dropout_p2']),                           \n",
    "                                         self.layer4                              \n",
    "                                         )\n",
    "\n",
    "    def forward(self, x):\n",
    "        x = self.mlp(x)\n",
    "        return x"
   ]
  },
  {
   "cell_type": "code",
   "execution_count": null,
   "metadata": {
    "id": "Yv4D1Ir8CKv2"
   },
   "outputs": [],
   "source": [
    "def train(model, dataloader, optimizer, device):\n",
    "\n",
    "    epoch_loss = []\n",
    "    model.train() # Set model to training mode \n",
    "    \n",
    "    for batch in dataloader:    \n",
    "        X, y = batch\n",
    "        X = X.to(device)\n",
    "        y = y.to(device)\n",
    "        y = y.unsqueeze(1)\n",
    "        #print(y)\n",
    "        #print(y.shape)\n",
    "        \n",
    "        # train your model on each batch here \n",
    "        y_pred = model(X)\n",
    "        #print(y_pred)\n",
    "        #print(y_pred.shape)\n",
    "        loss = torch.nn.BCEWithLogitsLoss()(y_pred, y)\n",
    "        epoch_loss.append(loss.item())\n",
    "        \n",
    "        # run backpropagation given the loss you defined\n",
    "        optimizer.zero_grad()\n",
    "        loss.backward()\n",
    "        optimizer.step()\n",
    "\n",
    "    return np.array(epoch_loss).mean()\n",
    "\n",
    "\n",
    "def validate(model, dataloader, device):\n",
    "    \n",
    "    val_loss = []\n",
    "    model.eval() # Set model to evaluation mode \n",
    "    with torch.no_grad():    \n",
    "        for batch in dataloader:\n",
    "            X, y = batch\n",
    "            X = X.to(device)\n",
    "            y = y.to(device)\n",
    "            y = y.unsqueeze(1)\n",
    "            \n",
    "            # validate your model on each batch here \n",
    "            y_pred = model(X)\n",
    "\n",
    "            loss = torch.nn.BCEWithLogitsLoss()(y_pred, y)\n",
    "            val_loss.append(loss.item())\n",
    "            \n",
    "    return np.array(val_loss).mean()"
   ]
  },
  {
   "cell_type": "code",
   "execution_count": null,
   "metadata": {
    "id": "w6ObS0utL4um"
   },
   "outputs": [],
   "source": [
    "# device to train on\n",
    "device = 'cuda:0'\n",
    "\n",
    "# define model\n",
    "model_opt = EssentialMLP_opt().to(device)\n",
    "\n",
    "# define optimizer\n",
    "optimizer = torch.optim.Adam(list(model_opt.parameters()), lr=study.best_params['lr'])"
   ]
  },
  {
   "cell_type": "markdown",
   "metadata": {
    "id": "y1gBBZyq4bzv"
   },
   "source": [
    "### Train Model"
   ]
  },
  {
   "cell_type": "code",
   "execution_count": null,
   "metadata": {
    "colab": {
     "base_uri": "https://localhost:8080/"
    },
    "executionInfo": {
     "elapsed": 119518,
     "status": "ok",
     "timestamp": 1651989863608,
     "user": {
      "displayName": "Carolin Schulte",
      "userId": "04929166097189432726"
     },
     "user_tz": 240
    },
    "id": "W__HysUO2uH9",
    "outputId": "4f73763f-2052-405c-bac5-112156428879"
   },
   "outputs": [
    {
     "name": "stdout",
     "output_type": "stream",
     "text": [
      "epoch train loss validation loss\n",
      "0 0.5486228986896371 0.49447062300212347\n",
      "1 0.4836546136514418 0.5028428902376944\n",
      "2 0.448480079868525 0.4782095097783786\n",
      "3 0.41552141762213834 0.4757356141040574\n",
      "4 0.3842659661999294 0.4940333704450237\n",
      "5 0.3554415568922524 0.51331562515515\n",
      "6 0.3303405733389104 0.5258867402574909\n",
      "7 0.3087219089385902 0.5036687085877604\n",
      "8 0.28777370308326033 0.5752546475894416\n",
      "9 0.2720185120060788 0.557557390252156\n",
      "10 0.2570831841160634 0.5688637090263082\n",
      "11 0.2415635673370411 0.6116747571461236\n",
      "12 0.23149811000755766 0.604604596522317\n",
      "13 0.2225259236206624 0.5968428271919933\n",
      "14 0.21188814136816095 0.6118613917436173\n",
      "15 0.20356991343558686 0.6213087510706773\n",
      "16 0.1973171515392699 0.6495090069165871\n",
      "17 0.19013092674615326 0.6718855335641263\n",
      "18 0.18301529245468048 0.6474785213150195\n",
      "19 0.17673881031253094 0.687868407413141\n",
      "20 0.17031325795173025 0.6740897951731041\n",
      "21 0.16708485636816534 0.6647638211499399\n",
      "22 0.16323377551469753 0.679038201250247\n",
      "23 0.15590229821336904 0.6519830822944641\n",
      "24 0.15428863537966508 0.6895590682527912\n",
      "25 0.14743991077469445 0.7573648611111428\n",
      "26 0.1448019775907147 0.722497670063332\n",
      "27 0.14311361367607148 0.6980871344680217\n",
      "28 0.13796268584223656 0.7114253453354338\n",
      "29 0.13246518702419433 0.7091179272132133\n",
      "30 0.1312889516963993 0.8116622905233013\n",
      "31 0.12775440715611833 0.7272454255552434\n",
      "32 0.12465895895006908 0.7909575718552319\n",
      "33 0.1214005042385838 0.784251662777431\n",
      "34 0.1193091605096009 0.7707916854032829\n",
      "35 0.11621989319234195 0.7431264501899036\n",
      "36 0.11522963176322774 0.8027274444032071\n",
      "37 0.11241246530028019 0.7843819958950157\n",
      "38 0.11083550820483187 0.7684724766816666\n",
      "Early stopping!\n"
     ]
    }
   ],
   "source": [
    "print(\"epoch\", \"train loss\", \"validation loss\")\n",
    "\n",
    "val_loss_curve = []\n",
    "train_loss_curve = []\n",
    "last_loss = 100\n",
    "trigger_times = 0\n",
    "patience = 20\n",
    "\n",
    "for epoch in range(100):\n",
    "    \n",
    "    # Compute train your model on training data\n",
    "    epoch_loss = train(model_opt, train_dataloader, optimizer,  device=device)\n",
    "    \n",
    "    # Validate your on validation data \n",
    "    val_loss = validate(model_opt, val_dataloader, device=device) \n",
    "\n",
    "    if val_loss > last_loss:\n",
    "            trigger_times += 1\n",
    "\n",
    "            if trigger_times >= patience:\n",
    "                print('Early stopping!')\n",
    "                break\n",
    "    \n",
    "    # Record train and loss performance \n",
    "    train_loss_curve.append(epoch_loss)\n",
    "    val_loss_curve.append(val_loss)\n",
    "    last_loss = val_loss\n",
    "    print(epoch, epoch_loss, val_loss)\n"
   ]
  },
  {
   "cell_type": "markdown",
   "metadata": {
    "id": "5yaVbDNzCrGU"
   },
   "source": [
    "## Predict on test set"
   ]
  },
  {
   "cell_type": "code",
   "execution_count": null,
   "metadata": {
    "id": "AjwxoZ5Y2xKf"
   },
   "outputs": [],
   "source": [
    "y_trueList = []\n",
    "y_predList = []\n",
    "y_probList = []\n",
    "\n",
    "with torch.no_grad():    \n",
    "  for batch in test_dataloader:\n",
    "    X, y = batch\n",
    "    X = X.to(device)\n",
    "    y = y.to(device)\n",
    "    y = y.unsqueeze(1).cpu().numpy()\n",
    "            \n",
    "    y_pred = model_opt(X)\n",
    "    y_pred = torch.sigmoid(y_pred)\n",
    "    y_pred_tag = torch.round(y_pred)\n",
    "    \n",
    "    y_trueList.append(y)\n",
    "    y_predList.append(y_pred_tag.cpu().numpy())\n",
    "    y_probList.append(y_pred.cpu().numpy())\n",
    "\n",
    "y_trueList = np.concatenate(y_trueList).ravel()\n",
    "y_predList = np.concatenate(y_predList).ravel()\n",
    "y_probList = np.concatenate(y_probList).ravel()"
   ]
  },
  {
   "cell_type": "markdown",
   "metadata": {
    "id": "mVyUKUH_4ik_"
   },
   "source": [
    "## Output results to CSVs"
   ]
  },
  {
   "cell_type": "code",
   "execution_count": null,
   "metadata": {
    "id": "1oAZ0MDtXRUv"
   },
   "outputs": [],
   "source": [
    "subset = 'All'\n",
    "# Save FP, FN, TP, TN genes to file\n",
    "fp_ind  =  pd.Series([y_trueList[i] == 0 and y_predList[i] == 1 for i in range(len(y_trueList))], name='bools')\n",
    "fp = data_test[fp_ind.values]\n",
    "\n",
    "fn_ind  =  pd.Series([y_trueList[i] == 1 and y_predList[i] == 0 for i in range(len(y_trueList))], name='bools')\n",
    "fn = data_test[fn_ind.values]\n",
    "\n",
    "tp_ind  =  pd.Series([y_trueList[i] == 1 and y_predList[i] == 1 for i in range(len(y_trueList))], name='bools')\n",
    "tp = data_test[tp_ind.values]\n",
    "\n",
    "tn_ind  =  pd.Series([y_trueList[i] == 0 and y_predList[i] == 0 for i in range(len(y_trueList))], name='bools')\n",
    "tn = data_test[tn_ind.values]\n",
    "\n",
    "file_fpgenes = \"Output/\" + subset + \"_fpgenes.csv\"\n",
    "fp.to_csv(os.path.join(base_dir, file_fpgenes))\n",
    "\n",
    "file_fngenes = \"Output/\" + subset + \"_fngenes.csv\"\n",
    "fn.to_csv(os.path.join(base_dir, file_fngenes))\n",
    "\n",
    "file_tpgenes = \"Output/\" + subset + \"_tpgenes.csv\"\n",
    "tp.to_csv(os.path.join(base_dir, file_tpgenes))\n",
    "\n",
    "file_tngenes = \"Output/\" + subset + \"_tngenes.csv\"\n",
    "tn.to_csv(os.path.join(base_dir, file_tngenes))"
   ]
  },
  {
   "cell_type": "code",
   "execution_count": null,
   "metadata": {
    "colab": {
     "base_uri": "https://localhost:8080/"
    },
    "executionInfo": {
     "elapsed": 131,
     "status": "ok",
     "timestamp": 1651989879948,
     "user": {
      "displayName": "Carolin Schulte",
      "userId": "04929166097189432726"
     },
     "user_tz": 240
    },
    "id": "eNAQkLjQNJrQ",
    "outputId": "e522df1e-0f5a-4319-fb0e-28b420afa9f6"
   },
   "outputs": [
    {
     "name": "stdout",
     "output_type": "stream",
     "text": [
      "The testing AUC score is 0.788\n"
     ]
    }
   ],
   "source": [
    "test_auc = roc_auc_score(y_trueList, y_probList)\n",
    "print(\"The testing AUC score is {:.3f}\".format(test_auc))"
   ]
  },
  {
   "cell_type": "code",
   "execution_count": null,
   "metadata": {
    "colab": {
     "base_uri": "https://localhost:8080/",
     "height": 279
    },
    "executionInfo": {
     "elapsed": 414,
     "status": "ok",
     "timestamp": 1651989882826,
     "user": {
      "displayName": "Carolin Schulte",
      "userId": "04929166097189432726"
     },
     "user_tz": 240
    },
    "id": "lf5V2MtEN3R3",
    "outputId": "156dff29-b546-471c-f848-4244512355b0"
   },
   "outputs": [
    {
     "data": {
      "image/png": "[encoded data removed]",
      "text/plain": [
       "<Figure size 432x288 with 1 Axes>"
      ]
     },
     "metadata": {
      "needs_background": "light"
     },
     "output_type": "display_data"
    }
   ],
   "source": [
    "# Plot AUC-ROC curve\n",
    "from sklearn import metrics\n",
    "fpr, tpr, thresholds = metrics.roc_curve(y_trueList, y_probList)\n",
    "roc_auc = metrics.auc(fpr, tpr)\n",
    "display = metrics.RocCurveDisplay(fpr=fpr, tpr=tpr, roc_auc=roc_auc)\n",
    "display.plot()\n",
    "plt.plot([0, 1], [0, 1], '--')\n",
    "plt.show()"
   ]
  },
  {
   "cell_type": "code",
   "execution_count": null,
   "metadata": {
    "id": "FiOlcO46OcCD"
   },
   "outputs": [],
   "source": [
    "# Save FPR, TPR and classification report\n",
    "file_fpr = \"Output/\" + subset + \"_fpr.csv\"\n",
    "np.savetxt(os.path.join(base_dir, file_fpr), fpr, delimiter=\",\")\n",
    "\n",
    "file_tpr = \"Output/\" + subset + \"_tpr.csv\"\n",
    "np.savetxt(os.path.join(base_dir, file_tpr), tpr, delimiter=\",\")\n",
    "\n",
    "#file_rocauc = \"Output/\" + subset + \"_rocauc.csv\"\n",
    "#np.savetxt(os.path.join(base_dir, file_rocauc), roc_auc, delimiter=\",\")"
   ]
  },
  {
   "cell_type": "code",
   "execution_count": null,
   "metadata": {
    "id": "150FryU7TYXh"
   },
   "outputs": [],
   "source": [
    "report = metrics.classification_report(y_trueList, y_predList, output_dict=True)\n",
    "report_df = pd.DataFrame(report).transpose()"
   ]
  },
  {
   "cell_type": "code",
   "execution_count": null,
   "metadata": {
    "id": "9qUN-HNPTdoK"
   },
   "outputs": [],
   "source": [
    "file_report = \"Output/\" + subset + \"_report.csv\"\n",
    "report_df.to_csv(os.path.join(base_dir, file_report))"
   ]
  }
 ],
 "metadata": {
  "accelerator": "GPU",
  "colab": {
   "collapsed_sections": [],
   "machine_shape": "hm",
   "name": "Code_ReferenceModel.ipynb",
   "provenance": [
    {
     "file_id": "1ocBbjcmpp7l1gqSLdG0LeLddcIvJZbxp",
     "timestamp": 1651911034260
    },
    {
     "file_id": "1meSxttGE6vJxAo1RzXdADsYgZAqkME9f",
     "timestamp": 1651858789682
    }
   ],
   "toc_visible": true
  },
  "kernelspec": {
   "display_name": "Python 3 (ipykernel)",
   "language": "python",
   "name": "python3"
  },
  "language_info": {
   "codemirror_mode": {
    "name": "ipython",
    "version": 3
   },
   "file_extension": ".py",
   "mimetype": "text/x-python",
   "name": "python",
   "nbconvert_exporter": "python",
   "pygments_lexer": "ipython3",
   "version": "3.9.12"
  }
 },
 "nbformat": 4,
 "nbformat_minor": 1
}
